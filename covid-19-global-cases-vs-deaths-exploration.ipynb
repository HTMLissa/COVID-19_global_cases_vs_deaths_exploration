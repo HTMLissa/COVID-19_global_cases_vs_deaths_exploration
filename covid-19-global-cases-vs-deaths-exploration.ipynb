{
 "cells": [
  {
   "cell_type": "markdown",
   "id": "f640aa49",
   "metadata": {
    "_execution_state": "idle",
    "_uuid": "051d70d956493feee0c6d64651c6a088724dca2a",
    "papermill": {
     "duration": 0.014287,
     "end_time": "2024-02-22T17:20:03.894214",
     "exception": false,
     "start_time": "2024-02-22T17:20:03.879927",
     "status": "completed"
    },
    "tags": []
   },
   "source": [
    "## Introduction\n",
    "This research concentrates on analyzing worldwide COVID-19 case data from the onset of the pandemic in early 2020. We investigate the progression of cases over time and how they are spread among different countries. Additionally, we pinpoint the top 10 countries with the most COVID-19 cases, along with the top 10 countries experiencing the highest death tolls from the virus. A key focus is on understanding these figures in relation to the total populations of the respective countries and their interrelations."
   ]
  },
  {
   "cell_type": "markdown",
   "id": "8c4745b4",
   "metadata": {
    "papermill": {
     "duration": 0.012885,
     "end_time": "2024-02-22T17:20:03.920033",
     "exception": false,
     "start_time": "2024-02-22T17:20:03.907148",
     "status": "completed"
    },
    "tags": []
   },
   "source": [
    "## About the Data\n",
    "For this study, we will use data from the \"[coronavirus](https://ramikrispin.github.io/coronavirus/)\" package by Rami Krispin. The coronavirus package provides a tidy format for the COVID-19 dataset collected by the Center for Systems Science and Engineering (CSSE) at Johns Hopkins University. The dataset includes daily new and death cases between January 2020 and March 2023 and recovery cases until August 2022.\n",
    "\n",
    "*It is important to acknowledge that COVID-19 data is subject to frequent updates. The information utilized in this analysis was retrieved on February 21, 2024.*"
   ]
  },
  {
   "cell_type": "markdown",
   "id": "42717254",
   "metadata": {
    "papermill": {
     "duration": 0.012874,
     "end_time": "2024-02-22T17:20:03.945932",
     "exception": false,
     "start_time": "2024-02-22T17:20:03.933058",
     "status": "completed"
    },
    "tags": []
   },
   "source": [
    "## Setting Up Our Environment"
   ]
  },
  {
   "cell_type": "code",
   "execution_count": 1,
   "id": "d35af7ad",
   "metadata": {
    "execution": {
     "iopub.execute_input": "2024-02-22T17:20:03.977073Z",
     "iopub.status.busy": "2024-02-22T17:20:03.974091Z",
     "iopub.status.idle": "2024-02-22T17:20:05.191300Z",
     "shell.execute_reply": "2024-02-22T17:20:05.189402Z"
    },
    "papermill": {
     "duration": 1.235503,
     "end_time": "2024-02-22T17:20:05.194059",
     "exception": false,
     "start_time": "2024-02-22T17:20:03.958556",
     "status": "completed"
    },
    "tags": []
   },
   "outputs": [
    {
     "name": "stderr",
     "output_type": "stream",
     "text": [
      "── \u001b[1mAttaching core tidyverse packages\u001b[22m ──────────────────────── tidyverse 2.0.0 ──\n",
      "\u001b[32m✔\u001b[39m \u001b[34mdplyr    \u001b[39m 1.1.4     \u001b[32m✔\u001b[39m \u001b[34mreadr    \u001b[39m 2.1.4\n",
      "\u001b[32m✔\u001b[39m \u001b[34mforcats  \u001b[39m 1.0.0     \u001b[32m✔\u001b[39m \u001b[34mstringr  \u001b[39m 1.5.1\n",
      "\u001b[32m✔\u001b[39m \u001b[34mggplot2  \u001b[39m 3.4.4     \u001b[32m✔\u001b[39m \u001b[34mtibble   \u001b[39m 3.2.1\n",
      "\u001b[32m✔\u001b[39m \u001b[34mlubridate\u001b[39m 1.9.3     \u001b[32m✔\u001b[39m \u001b[34mtidyr    \u001b[39m 1.3.0\n",
      "\u001b[32m✔\u001b[39m \u001b[34mpurrr    \u001b[39m 1.0.2     \n",
      "── \u001b[1mConflicts\u001b[22m ────────────────────────────────────────── tidyverse_conflicts() ──\n",
      "\u001b[31m✖\u001b[39m \u001b[34mdplyr\u001b[39m::\u001b[32mfilter()\u001b[39m masks \u001b[34mstats\u001b[39m::filter()\n",
      "\u001b[31m✖\u001b[39m \u001b[34mdplyr\u001b[39m::\u001b[32mlag()\u001b[39m    masks \u001b[34mstats\u001b[39m::lag()\n",
      "\u001b[36mℹ\u001b[39m Use the conflicted package (\u001b[3m\u001b[34m<http://conflicted.r-lib.org/>\u001b[39m\u001b[23m) to force all conflicts to become errors\n",
      "\n",
      "Attaching package: ‘scales’\n",
      "\n",
      "\n",
      "The following object is masked from ‘package:purrr’:\n",
      "\n",
      "    discard\n",
      "\n",
      "\n",
      "The following object is masked from ‘package:readr’:\n",
      "\n",
      "    col_factor\n",
      "\n",
      "\n"
     ]
    }
   ],
   "source": [
    "library(tidyverse)\n",
    "library(scales) # useful to display larger numbers in plots with commas"
   ]
  },
  {
   "cell_type": "markdown",
   "id": "56c4cae6",
   "metadata": {
    "papermill": {
     "duration": 0.013889,
     "end_time": "2024-02-22T17:20:05.221918",
     "exception": false,
     "start_time": "2024-02-22T17:20:05.208029",
     "status": "completed"
    },
    "tags": []
   },
   "source": [
    "## Loading the Data"
   ]
  },
  {
   "cell_type": "code",
   "execution_count": 2,
   "id": "71a12dfc",
   "metadata": {
    "execution": {
     "iopub.execute_input": "2024-02-22T17:20:05.283654Z",
     "iopub.status.busy": "2024-02-22T17:20:05.250808Z",
     "iopub.status.idle": "2024-02-22T17:20:08.012749Z",
     "shell.execute_reply": "2024-02-22T17:20:08.010666Z"
    },
    "papermill": {
     "duration": 2.780137,
     "end_time": "2024-02-22T17:20:08.015457",
     "exception": false,
     "start_time": "2024-02-22T17:20:05.235320",
     "status": "completed"
    },
    "tags": []
   },
   "outputs": [
    {
     "name": "stderr",
     "output_type": "stream",
     "text": [
      "\u001b[1mRows: \u001b[22m\u001b[34m919308\u001b[39m \u001b[1mColumns: \u001b[22m\u001b[34m15\u001b[39m\n",
      "\u001b[36m──\u001b[39m \u001b[1mColumn specification\u001b[22m \u001b[36m────────────────────────────────────────────────────────\u001b[39m\n",
      "\u001b[1mDelimiter:\u001b[22m \",\"\n",
      "\u001b[31mchr\u001b[39m  (8): province, country, type, iso2, iso3, combined_key, continent_name,...\n",
      "\u001b[32mdbl\u001b[39m  (6): lat, long, cases, uid, code3, population\n",
      "\u001b[34mdate\u001b[39m (1): date\n",
      "\n",
      "\u001b[36mℹ\u001b[39m Use `spec()` to retrieve the full column specification for this data.\n",
      "\u001b[36mℹ\u001b[39m Specify the column types or set `show_col_types = FALSE` to quiet this message.\n"
     ]
    }
   ],
   "source": [
    "coronavirus <- read_csv(\"/kaggle/input/coronavirus/coronavirus.csv\")"
   ]
  },
  {
   "cell_type": "markdown",
   "id": "21017381",
   "metadata": {
    "papermill": {
     "duration": 0.014796,
     "end_time": "2024-02-22T17:20:08.043964",
     "exception": false,
     "start_time": "2024-02-22T17:20:08.029168",
     "status": "completed"
    },
    "tags": []
   },
   "source": [
    "## Getting an Overview of the Data"
   ]
  },
  {
   "cell_type": "code",
   "execution_count": 3,
   "id": "38066b30",
   "metadata": {
    "execution": {
     "iopub.execute_input": "2024-02-22T17:20:08.074486Z",
     "iopub.status.busy": "2024-02-22T17:20:08.072772Z",
     "iopub.status.idle": "2024-02-22T17:20:08.125634Z",
     "shell.execute_reply": "2024-02-22T17:20:08.123769Z"
    },
    "papermill": {
     "duration": 0.07045,
     "end_time": "2024-02-22T17:20:08.128076",
     "exception": false,
     "start_time": "2024-02-22T17:20:08.057626",
     "status": "completed"
    },
    "tags": []
   },
   "outputs": [
    {
     "data": {
      "text/html": [
       "<table class=\"dataframe\">\n",
       "<caption>A tibble: 6 × 15</caption>\n",
       "<thead>\n",
       "\t<tr><th scope=col>date</th><th scope=col>province</th><th scope=col>country</th><th scope=col>lat</th><th scope=col>long</th><th scope=col>type</th><th scope=col>cases</th><th scope=col>uid</th><th scope=col>iso2</th><th scope=col>iso3</th><th scope=col>code3</th><th scope=col>combined_key</th><th scope=col>population</th><th scope=col>continent_name</th><th scope=col>continent_code</th></tr>\n",
       "\t<tr><th scope=col>&lt;date&gt;</th><th scope=col>&lt;chr&gt;</th><th scope=col>&lt;chr&gt;</th><th scope=col>&lt;dbl&gt;</th><th scope=col>&lt;dbl&gt;</th><th scope=col>&lt;chr&gt;</th><th scope=col>&lt;dbl&gt;</th><th scope=col>&lt;dbl&gt;</th><th scope=col>&lt;chr&gt;</th><th scope=col>&lt;chr&gt;</th><th scope=col>&lt;dbl&gt;</th><th scope=col>&lt;chr&gt;</th><th scope=col>&lt;dbl&gt;</th><th scope=col>&lt;chr&gt;</th><th scope=col>&lt;chr&gt;</th></tr>\n",
       "</thead>\n",
       "<tbody>\n",
       "\t<tr><td>2020-01-22</td><td>Alberta</td><td>Canada</td><td>53.9333</td><td>-116.5765</td><td>confirmed</td><td>0</td><td>12401</td><td>CA</td><td>CAN</td><td>124</td><td>Alberta, Canada</td><td>4413146</td><td>North America</td><td>NA</td></tr>\n",
       "\t<tr><td>2020-01-23</td><td>Alberta</td><td>Canada</td><td>53.9333</td><td>-116.5765</td><td>confirmed</td><td>0</td><td>12401</td><td>CA</td><td>CAN</td><td>124</td><td>Alberta, Canada</td><td>4413146</td><td>North America</td><td>NA</td></tr>\n",
       "\t<tr><td>2020-01-24</td><td>Alberta</td><td>Canada</td><td>53.9333</td><td>-116.5765</td><td>confirmed</td><td>0</td><td>12401</td><td>CA</td><td>CAN</td><td>124</td><td>Alberta, Canada</td><td>4413146</td><td>North America</td><td>NA</td></tr>\n",
       "\t<tr><td>2020-01-25</td><td>Alberta</td><td>Canada</td><td>53.9333</td><td>-116.5765</td><td>confirmed</td><td>0</td><td>12401</td><td>CA</td><td>CAN</td><td>124</td><td>Alberta, Canada</td><td>4413146</td><td>North America</td><td>NA</td></tr>\n",
       "\t<tr><td>2020-01-26</td><td>Alberta</td><td>Canada</td><td>53.9333</td><td>-116.5765</td><td>confirmed</td><td>0</td><td>12401</td><td>CA</td><td>CAN</td><td>124</td><td>Alberta, Canada</td><td>4413146</td><td>North America</td><td>NA</td></tr>\n",
       "\t<tr><td>2020-01-27</td><td>Alberta</td><td>Canada</td><td>53.9333</td><td>-116.5765</td><td>confirmed</td><td>0</td><td>12401</td><td>CA</td><td>CAN</td><td>124</td><td>Alberta, Canada</td><td>4413146</td><td>North America</td><td>NA</td></tr>\n",
       "</tbody>\n",
       "</table>\n"
      ],
      "text/latex": [
       "A tibble: 6 × 15\n",
       "\\begin{tabular}{lllllllllllllll}\n",
       " date & province & country & lat & long & type & cases & uid & iso2 & iso3 & code3 & combined\\_key & population & continent\\_name & continent\\_code\\\\\n",
       " <date> & <chr> & <chr> & <dbl> & <dbl> & <chr> & <dbl> & <dbl> & <chr> & <chr> & <dbl> & <chr> & <dbl> & <chr> & <chr>\\\\\n",
       "\\hline\n",
       "\t 2020-01-22 & Alberta & Canada & 53.9333 & -116.5765 & confirmed & 0 & 12401 & CA & CAN & 124 & Alberta, Canada & 4413146 & North America & NA\\\\\n",
       "\t 2020-01-23 & Alberta & Canada & 53.9333 & -116.5765 & confirmed & 0 & 12401 & CA & CAN & 124 & Alberta, Canada & 4413146 & North America & NA\\\\\n",
       "\t 2020-01-24 & Alberta & Canada & 53.9333 & -116.5765 & confirmed & 0 & 12401 & CA & CAN & 124 & Alberta, Canada & 4413146 & North America & NA\\\\\n",
       "\t 2020-01-25 & Alberta & Canada & 53.9333 & -116.5765 & confirmed & 0 & 12401 & CA & CAN & 124 & Alberta, Canada & 4413146 & North America & NA\\\\\n",
       "\t 2020-01-26 & Alberta & Canada & 53.9333 & -116.5765 & confirmed & 0 & 12401 & CA & CAN & 124 & Alberta, Canada & 4413146 & North America & NA\\\\\n",
       "\t 2020-01-27 & Alberta & Canada & 53.9333 & -116.5765 & confirmed & 0 & 12401 & CA & CAN & 124 & Alberta, Canada & 4413146 & North America & NA\\\\\n",
       "\\end{tabular}\n"
      ],
      "text/markdown": [
       "\n",
       "A tibble: 6 × 15\n",
       "\n",
       "| date &lt;date&gt; | province &lt;chr&gt; | country &lt;chr&gt; | lat &lt;dbl&gt; | long &lt;dbl&gt; | type &lt;chr&gt; | cases &lt;dbl&gt; | uid &lt;dbl&gt; | iso2 &lt;chr&gt; | iso3 &lt;chr&gt; | code3 &lt;dbl&gt; | combined_key &lt;chr&gt; | population &lt;dbl&gt; | continent_name &lt;chr&gt; | continent_code &lt;chr&gt; |\n",
       "|---|---|---|---|---|---|---|---|---|---|---|---|---|---|---|\n",
       "| 2020-01-22 | Alberta | Canada | 53.9333 | -116.5765 | confirmed | 0 | 12401 | CA | CAN | 124 | Alberta, Canada | 4413146 | North America | NA |\n",
       "| 2020-01-23 | Alberta | Canada | 53.9333 | -116.5765 | confirmed | 0 | 12401 | CA | CAN | 124 | Alberta, Canada | 4413146 | North America | NA |\n",
       "| 2020-01-24 | Alberta | Canada | 53.9333 | -116.5765 | confirmed | 0 | 12401 | CA | CAN | 124 | Alberta, Canada | 4413146 | North America | NA |\n",
       "| 2020-01-25 | Alberta | Canada | 53.9333 | -116.5765 | confirmed | 0 | 12401 | CA | CAN | 124 | Alberta, Canada | 4413146 | North America | NA |\n",
       "| 2020-01-26 | Alberta | Canada | 53.9333 | -116.5765 | confirmed | 0 | 12401 | CA | CAN | 124 | Alberta, Canada | 4413146 | North America | NA |\n",
       "| 2020-01-27 | Alberta | Canada | 53.9333 | -116.5765 | confirmed | 0 | 12401 | CA | CAN | 124 | Alberta, Canada | 4413146 | North America | NA |\n",
       "\n"
      ],
      "text/plain": [
       "  date       province country lat     long      type      cases uid   iso2 iso3\n",
       "1 2020-01-22 Alberta  Canada  53.9333 -116.5765 confirmed 0     12401 CA   CAN \n",
       "2 2020-01-23 Alberta  Canada  53.9333 -116.5765 confirmed 0     12401 CA   CAN \n",
       "3 2020-01-24 Alberta  Canada  53.9333 -116.5765 confirmed 0     12401 CA   CAN \n",
       "4 2020-01-25 Alberta  Canada  53.9333 -116.5765 confirmed 0     12401 CA   CAN \n",
       "5 2020-01-26 Alberta  Canada  53.9333 -116.5765 confirmed 0     12401 CA   CAN \n",
       "6 2020-01-27 Alberta  Canada  53.9333 -116.5765 confirmed 0     12401 CA   CAN \n",
       "  code3 combined_key    population continent_name continent_code\n",
       "1 124   Alberta, Canada 4413146    North America  NA            \n",
       "2 124   Alberta, Canada 4413146    North America  NA            \n",
       "3 124   Alberta, Canada 4413146    North America  NA            \n",
       "4 124   Alberta, Canada 4413146    North America  NA            \n",
       "5 124   Alberta, Canada 4413146    North America  NA            \n",
       "6 124   Alberta, Canada 4413146    North America  NA            "
      ]
     },
     "metadata": {},
     "output_type": "display_data"
    }
   ],
   "source": [
    "head(coronavirus)"
   ]
  },
  {
   "cell_type": "markdown",
   "id": "eae63236",
   "metadata": {
    "papermill": {
     "duration": 0.01408,
     "end_time": "2024-02-22T17:20:08.156327",
     "exception": false,
     "start_time": "2024-02-22T17:20:08.142247",
     "status": "completed"
    },
    "tags": []
   },
   "source": [
    "## Inspecting the Structure of the Data"
   ]
  },
  {
   "cell_type": "code",
   "execution_count": 4,
   "id": "d7c883aa",
   "metadata": {
    "execution": {
     "iopub.execute_input": "2024-02-22T17:20:08.187997Z",
     "iopub.status.busy": "2024-02-22T17:20:08.186310Z",
     "iopub.status.idle": "2024-02-22T17:20:08.232200Z",
     "shell.execute_reply": "2024-02-22T17:20:08.229920Z"
    },
    "papermill": {
     "duration": 0.064483,
     "end_time": "2024-02-22T17:20:08.234702",
     "exception": false,
     "start_time": "2024-02-22T17:20:08.170219",
     "status": "completed"
    },
    "tags": []
   },
   "outputs": [
    {
     "name": "stdout",
     "output_type": "stream",
     "text": [
      "spc_tbl_ [919,308 × 15] (S3: spec_tbl_df/tbl_df/tbl/data.frame)\n",
      " $ date          : Date[1:919308], format: \"2020-01-22\" \"2020-01-23\" ...\n",
      " $ province      : chr [1:919308] \"Alberta\" \"Alberta\" \"Alberta\" \"Alberta\" ...\n",
      " $ country       : chr [1:919308] \"Canada\" \"Canada\" \"Canada\" \"Canada\" ...\n",
      " $ lat           : num [1:919308] 53.9 53.9 53.9 53.9 53.9 ...\n",
      " $ long          : num [1:919308] -117 -117 -117 -117 -117 ...\n",
      " $ type          : chr [1:919308] \"confirmed\" \"confirmed\" \"confirmed\" \"confirmed\" ...\n",
      " $ cases         : num [1:919308] 0 0 0 0 0 0 0 0 0 0 ...\n",
      " $ uid           : num [1:919308] 12401 12401 12401 12401 12401 ...\n",
      " $ iso2          : chr [1:919308] \"CA\" \"CA\" \"CA\" \"CA\" ...\n",
      " $ iso3          : chr [1:919308] \"CAN\" \"CAN\" \"CAN\" \"CAN\" ...\n",
      " $ code3         : num [1:919308] 124 124 124 124 124 124 124 124 124 124 ...\n",
      " $ combined_key  : chr [1:919308] \"Alberta, Canada\" \"Alberta, Canada\" \"Alberta, Canada\" \"Alberta, Canada\" ...\n",
      " $ population    : num [1:919308] 4413146 4413146 4413146 4413146 4413146 ...\n",
      " $ continent_name: chr [1:919308] \"North America\" \"North America\" \"North America\" \"North America\" ...\n",
      " $ continent_code: chr [1:919308] NA NA NA NA ...\n",
      " - attr(*, \"spec\")=\n",
      "  .. cols(\n",
      "  ..   date = \u001b[34mcol_date(format = \"\")\u001b[39m,\n",
      "  ..   province = \u001b[31mcol_character()\u001b[39m,\n",
      "  ..   country = \u001b[31mcol_character()\u001b[39m,\n",
      "  ..   lat = \u001b[32mcol_double()\u001b[39m,\n",
      "  ..   long = \u001b[32mcol_double()\u001b[39m,\n",
      "  ..   type = \u001b[31mcol_character()\u001b[39m,\n",
      "  ..   cases = \u001b[32mcol_double()\u001b[39m,\n",
      "  ..   uid = \u001b[32mcol_double()\u001b[39m,\n",
      "  ..   iso2 = \u001b[31mcol_character()\u001b[39m,\n",
      "  ..   iso3 = \u001b[31mcol_character()\u001b[39m,\n",
      "  ..   code3 = \u001b[32mcol_double()\u001b[39m,\n",
      "  ..   combined_key = \u001b[31mcol_character()\u001b[39m,\n",
      "  ..   population = \u001b[32mcol_double()\u001b[39m,\n",
      "  ..   continent_name = \u001b[31mcol_character()\u001b[39m,\n",
      "  ..   continent_code = \u001b[31mcol_character()\u001b[39m\n",
      "  .. )\n",
      " - attr(*, \"problems\")=<externalptr> \n"
     ]
    }
   ],
   "source": [
    "str(coronavirus)"
   ]
  },
  {
   "cell_type": "markdown",
   "id": "ebaa823d",
   "metadata": {
    "papermill": {
     "duration": 0.014146,
     "end_time": "2024-02-22T17:20:08.263078",
     "exception": false,
     "start_time": "2024-02-22T17:20:08.248932",
     "status": "completed"
    },
    "tags": []
   },
   "source": [
    "## Checking Data for Duplicates"
   ]
  },
  {
   "cell_type": "code",
   "execution_count": 5,
   "id": "15c29ef5",
   "metadata": {
    "execution": {
     "iopub.execute_input": "2024-02-22T17:20:08.295084Z",
     "iopub.status.busy": "2024-02-22T17:20:08.293339Z",
     "iopub.status.idle": "2024-02-22T17:20:27.700297Z",
     "shell.execute_reply": "2024-02-22T17:20:27.698496Z"
    },
    "papermill": {
     "duration": 19.425653,
     "end_time": "2024-02-22T17:20:27.702761",
     "exception": false,
     "start_time": "2024-02-22T17:20:08.277108",
     "status": "completed"
    },
    "tags": []
   },
   "outputs": [
    {
     "data": {
      "text/html": [
       "0"
      ],
      "text/latex": [
       "0"
      ],
      "text/markdown": [
       "0"
      ],
      "text/plain": [
       "[1] 0"
      ]
     },
     "metadata": {},
     "output_type": "display_data"
    }
   ],
   "source": [
    "sum(duplicated(coronavirus))"
   ]
  },
  {
   "cell_type": "markdown",
   "id": "f084336e",
   "metadata": {
    "papermill": {
     "duration": 0.0143,
     "end_time": "2024-02-22T17:20:27.731457",
     "exception": false,
     "start_time": "2024-02-22T17:20:27.717157",
     "status": "completed"
    },
    "tags": []
   },
   "source": [
    "The data does not contain any duplicates."
   ]
  },
  {
   "cell_type": "markdown",
   "id": "674120d0",
   "metadata": {
    "papermill": {
     "duration": 0.014425,
     "end_time": "2024-02-22T17:20:27.760448",
     "exception": false,
     "start_time": "2024-02-22T17:20:27.746023",
     "status": "completed"
    },
    "tags": []
   },
   "source": [
    "## Analyzing the Data"
   ]
  },
  {
   "cell_type": "markdown",
   "id": "64c2bfdc",
   "metadata": {
    "papermill": {
     "duration": 0.014405,
     "end_time": "2024-02-22T17:20:27.789209",
     "exception": false,
     "start_time": "2024-02-22T17:20:27.774804",
     "status": "completed"
    },
    "tags": []
   },
   "source": [
    "### What is the Daily Total of Confirmed Cases Since the Onset of the Pandemic?\n",
    "We want to group the cases by date in order to get the newly confirmed global cases for each date:"
   ]
  },
  {
   "cell_type": "code",
   "execution_count": 6,
   "id": "3f052b93",
   "metadata": {
    "execution": {
     "iopub.execute_input": "2024-02-22T17:20:27.821832Z",
     "iopub.status.busy": "2024-02-22T17:20:27.820214Z",
     "iopub.status.idle": "2024-02-22T17:20:29.220259Z",
     "shell.execute_reply": "2024-02-22T17:20:29.218409Z"
    },
    "papermill": {
     "duration": 1.419178,
     "end_time": "2024-02-22T17:20:29.222736",
     "exception": false,
     "start_time": "2024-02-22T17:20:27.803558",
     "status": "completed"
    },
    "tags": []
   },
   "outputs": [
    {
     "data": {
      "text/html": [
       "<table class=\"dataframe\">\n",
       "<caption>A tibble: 6 × 2</caption>\n",
       "<thead>\n",
       "\t<tr><th scope=col>date</th><th scope=col>sum_cases</th></tr>\n",
       "\t<tr><th scope=col>&lt;date&gt;</th><th scope=col>&lt;dbl&gt;</th></tr>\n",
       "</thead>\n",
       "<tbody>\n",
       "\t<tr><td>2020-01-22</td><td>604</td></tr>\n",
       "\t<tr><td>2020-01-23</td><td>103</td></tr>\n",
       "\t<tr><td>2020-01-24</td><td>302</td></tr>\n",
       "\t<tr><td>2020-01-25</td><td>512</td></tr>\n",
       "\t<tr><td>2020-01-26</td><td>711</td></tr>\n",
       "\t<tr><td>2020-01-27</td><td>844</td></tr>\n",
       "</tbody>\n",
       "</table>\n"
      ],
      "text/latex": [
       "A tibble: 6 × 2\n",
       "\\begin{tabular}{ll}\n",
       " date & sum\\_cases\\\\\n",
       " <date> & <dbl>\\\\\n",
       "\\hline\n",
       "\t 2020-01-22 & 604\\\\\n",
       "\t 2020-01-23 & 103\\\\\n",
       "\t 2020-01-24 & 302\\\\\n",
       "\t 2020-01-25 & 512\\\\\n",
       "\t 2020-01-26 & 711\\\\\n",
       "\t 2020-01-27 & 844\\\\\n",
       "\\end{tabular}\n"
      ],
      "text/markdown": [
       "\n",
       "A tibble: 6 × 2\n",
       "\n",
       "| date &lt;date&gt; | sum_cases &lt;dbl&gt; |\n",
       "|---|---|\n",
       "| 2020-01-22 | 604 |\n",
       "| 2020-01-23 | 103 |\n",
       "| 2020-01-24 | 302 |\n",
       "| 2020-01-25 | 512 |\n",
       "| 2020-01-26 | 711 |\n",
       "| 2020-01-27 | 844 |\n",
       "\n"
      ],
      "text/plain": [
       "  date       sum_cases\n",
       "1 2020-01-22 604      \n",
       "2 2020-01-23 103      \n",
       "3 2020-01-24 302      \n",
       "4 2020-01-25 512      \n",
       "5 2020-01-26 711      \n",
       "6 2020-01-27 844      "
      ]
     },
     "metadata": {},
     "output_type": "display_data"
    }
   ],
   "source": [
    "coronavirus_cases_by_date <- coronavirus %>% \n",
    "  filter(cases >= 0) %>%\n",
    "  group_by(date) %>% \n",
    "  summarize(sum_cases = sum(cases))\n",
    "\n",
    "head(coronavirus_cases_by_date)"
   ]
  },
  {
   "cell_type": "code",
   "execution_count": 7,
   "id": "2e2ae979",
   "metadata": {
    "execution": {
     "iopub.execute_input": "2024-02-22T17:20:29.256807Z",
     "iopub.status.busy": "2024-02-22T17:20:29.255120Z",
     "iopub.status.idle": "2024-02-22T17:20:29.820492Z",
     "shell.execute_reply": "2024-02-22T17:20:29.818553Z"
    },
    "papermill": {
     "duration": 0.585819,
     "end_time": "2024-02-22T17:20:29.823608",
     "exception": false,
     "start_time": "2024-02-22T17:20:29.237789",
     "status": "completed"
    },
    "tags": []
   },
   "outputs": [
    {
     "data": {
      "image/png": "[encoded data removed]"
     },
     "metadata": {
      "image/png": {
       "height": 420,
       "width": 420
      }
     },
     "output_type": "display_data"
    }
   ],
   "source": [
    "ggplot(data = coronavirus_cases_by_date, aes(x = date, y = sum_cases)) +\n",
    "  geom_line() +\n",
    "  labs(title = \"New Global COVID-19 Cases Over Time\",\n",
    "       x = \"Date\",\n",
    "       y = \"New Cases\")"
   ]
  },
  {
   "cell_type": "markdown",
   "id": "53ddcb4a",
   "metadata": {
    "papermill": {
     "duration": 0.016194,
     "end_time": "2024-02-22T17:20:29.855927",
     "exception": false,
     "start_time": "2024-02-22T17:20:29.839733",
     "status": "completed"
    },
    "tags": []
   },
   "source": [
    "The above visualization, which illustrates the trend of new global COVID-19 cases over time, allows for several observations:\n",
    "\n",
    "* **Initial Outbreak:** At the outset of the timeline, which commences in early 2020, the incidence of new cases was comparably low. This period likely aligns with the virus's initial spread, when testing was not as extensively available.\n",
    "\n",
    "* **Multiple Infection Waves:** The presence of numerous peaks within the data points to several infection waves throughout the timeframe under consideration. These peaks reflect periods of increased COVID-19 case numbers.\n",
    "\n",
    "* **Significant Surge:** The timeline shows a pronounced peak around the end of 2021 or the beginning of 2022, indicating a major increase in cases. Possible explanations for this surge include the emergence of new viral variants, decreased observance of preventive measures, or alterations in testing protocols.\n",
    "\n",
    "* **Post-Peak Decline:** Following the most significant surge, there's a noticeable reduction in new cases, though not to the original minimal levels. This suggests some improvement from the peak period but indicates that COVID-19 remained prevalent globally.\n",
    "\n",
    "* **Ongoing Variability:** After the decline, the graph shows ongoing variability with smaller peaks, hinting at continued virus transmission and intermittent case increases. These could be attributed to the easing of restrictions, seasonal variations, or the appearance of new variants.\n",
    "\n",
    "* **Reporting Anomalies:** Notably, the most extreme spikes, especially the largest, may reflect anomalies in data reporting, such as backlog clearing or shifts in data collection practices, leading to abrupt rises in case figures."
   ]
  },
  {
   "cell_type": "markdown",
   "id": "204f1182",
   "metadata": {
    "papermill": {
     "duration": 0.016077,
     "end_time": "2024-02-22T17:20:29.888193",
     "exception": false,
     "start_time": "2024-02-22T17:20:29.872116",
     "status": "completed"
    },
    "tags": []
   },
   "source": [
    "### Tracking the Cumulative Rise: How Have Total COVID-19 Cases Evolved Over Time?"
   ]
  },
  {
   "cell_type": "code",
   "execution_count": 8,
   "id": "f67ef660",
   "metadata": {
    "execution": {
     "iopub.execute_input": "2024-02-22T17:20:29.924207Z",
     "iopub.status.busy": "2024-02-22T17:20:29.922598Z",
     "iopub.status.idle": "2024-02-22T17:20:29.951944Z",
     "shell.execute_reply": "2024-02-22T17:20:29.950169Z"
    },
    "papermill": {
     "duration": 0.050203,
     "end_time": "2024-02-22T17:20:29.954316",
     "exception": false,
     "start_time": "2024-02-22T17:20:29.904113",
     "status": "completed"
    },
    "tags": []
   },
   "outputs": [
    {
     "data": {
      "text/html": [
       "<table class=\"dataframe\">\n",
       "<caption>A tibble: 6 × 3</caption>\n",
       "<thead>\n",
       "\t<tr><th scope=col>date</th><th scope=col>sum_cases</th><th scope=col>cumulative_cases</th></tr>\n",
       "\t<tr><th scope=col>&lt;date&gt;</th><th scope=col>&lt;dbl&gt;</th><th scope=col>&lt;dbl&gt;</th></tr>\n",
       "</thead>\n",
       "<tbody>\n",
       "\t<tr><td>2020-01-22</td><td>604</td><td> 604</td></tr>\n",
       "\t<tr><td>2020-01-23</td><td>103</td><td> 707</td></tr>\n",
       "\t<tr><td>2020-01-24</td><td>302</td><td>1009</td></tr>\n",
       "\t<tr><td>2020-01-25</td><td>512</td><td>1521</td></tr>\n",
       "\t<tr><td>2020-01-26</td><td>711</td><td>2232</td></tr>\n",
       "\t<tr><td>2020-01-27</td><td>844</td><td>3076</td></tr>\n",
       "</tbody>\n",
       "</table>\n"
      ],
      "text/latex": [
       "A tibble: 6 × 3\n",
       "\\begin{tabular}{lll}\n",
       " date & sum\\_cases & cumulative\\_cases\\\\\n",
       " <date> & <dbl> & <dbl>\\\\\n",
       "\\hline\n",
       "\t 2020-01-22 & 604 &  604\\\\\n",
       "\t 2020-01-23 & 103 &  707\\\\\n",
       "\t 2020-01-24 & 302 & 1009\\\\\n",
       "\t 2020-01-25 & 512 & 1521\\\\\n",
       "\t 2020-01-26 & 711 & 2232\\\\\n",
       "\t 2020-01-27 & 844 & 3076\\\\\n",
       "\\end{tabular}\n"
      ],
      "text/markdown": [
       "\n",
       "A tibble: 6 × 3\n",
       "\n",
       "| date &lt;date&gt; | sum_cases &lt;dbl&gt; | cumulative_cases &lt;dbl&gt; |\n",
       "|---|---|---|\n",
       "| 2020-01-22 | 604 |  604 |\n",
       "| 2020-01-23 | 103 |  707 |\n",
       "| 2020-01-24 | 302 | 1009 |\n",
       "| 2020-01-25 | 512 | 1521 |\n",
       "| 2020-01-26 | 711 | 2232 |\n",
       "| 2020-01-27 | 844 | 3076 |\n",
       "\n"
      ],
      "text/plain": [
       "  date       sum_cases cumulative_cases\n",
       "1 2020-01-22 604        604            \n",
       "2 2020-01-23 103        707            \n",
       "3 2020-01-24 302       1009            \n",
       "4 2020-01-25 512       1521            \n",
       "5 2020-01-26 711       2232            \n",
       "6 2020-01-27 844       3076            "
      ]
     },
     "metadata": {},
     "output_type": "display_data"
    }
   ],
   "source": [
    "# Calculating cumulative cases\n",
    "coronavirus_cases_by_date$cumulative_cases <- cumsum(coronavirus_cases_by_date$sum_cases)\n",
    "\n",
    "head(coronavirus_cases_by_date)"
   ]
  },
  {
   "cell_type": "code",
   "execution_count": 9,
   "id": "56fe1c19",
   "metadata": {
    "execution": {
     "iopub.execute_input": "2024-02-22T17:20:29.990710Z",
     "iopub.status.busy": "2024-02-22T17:20:29.989093Z",
     "iopub.status.idle": "2024-02-22T17:20:30.298325Z",
     "shell.execute_reply": "2024-02-22T17:20:30.296380Z"
    },
    "papermill": {
     "duration": 0.3303,
     "end_time": "2024-02-22T17:20:30.300759",
     "exception": false,
     "start_time": "2024-02-22T17:20:29.970459",
     "status": "completed"
    },
    "tags": []
   },
   "outputs": [
    {
     "data": {
      "image/png": "[encoded data removed]"
     },
     "metadata": {
      "image/png": {
       "height": 420,
       "width": 420
      }
     },
     "output_type": "display_data"
    }
   ],
   "source": [
    "ggplot(data = coronavirus_cases_by_date, aes(x = date, y = cumulative_cases)) +\n",
    "  geom_line() +\n",
    "  scale_y_continuous(labels = label_comma()) + # Format the y-axis labels\n",
    "  labs(title = \"Total Confirmed Global COVID-19 Cases Over Time\",\n",
    "       x = \"Date\",\n",
    "       y = \"Total Cases\")"
   ]
  },
  {
   "cell_type": "markdown",
   "id": "1c3fc35e",
   "metadata": {
    "papermill": {
     "duration": 0.017474,
     "end_time": "2024-02-22T17:20:30.335995",
     "exception": false,
     "start_time": "2024-02-22T17:20:30.318521",
     "status": "completed"
    },
    "tags": []
   },
   "source": [
    "Analyzing the visualization of total confirmed global COVID-19 cases over time, we can deduce:\n",
    "\n",
    "* The overall trajectory of cases is upward, signifying a continuous global spread of COVID-19.\n",
    "* A marked uptick in the rate of case accumulation is observed beginning in early 2022, indicating a considerable rise in cases during this time.\n",
    "* The absence of a leveling off in the curve underscores that new cases continue to be reported, extending into the latest data point in 2023."
   ]
  },
  {
   "cell_type": "markdown",
   "id": "bbc2a04c",
   "metadata": {
    "papermill": {
     "duration": 0.01748,
     "end_time": "2024-02-22T17:20:30.371133",
     "exception": false,
     "start_time": "2024-02-22T17:20:30.353653",
     "status": "completed"
    },
    "tags": []
   },
   "source": [
    "### Understanding COVID-19 Impact: Which Countries Have the Highest Total Confirmed Cases?"
   ]
  },
  {
   "cell_type": "code",
   "execution_count": 10,
   "id": "469afc8f",
   "metadata": {
    "execution": {
     "iopub.execute_input": "2024-02-22T17:20:30.424079Z",
     "iopub.status.busy": "2024-02-22T17:20:30.422460Z",
     "iopub.status.idle": "2024-02-22T17:20:30.556431Z",
     "shell.execute_reply": "2024-02-22T17:20:30.554516Z"
    },
    "papermill": {
     "duration": 0.156013,
     "end_time": "2024-02-22T17:20:30.558941",
     "exception": false,
     "start_time": "2024-02-22T17:20:30.402928",
     "status": "completed"
    },
    "tags": []
   },
   "outputs": [
    {
     "data": {
      "text/html": [
       "<table class=\"dataframe\">\n",
       "<caption>A tibble: 10 × 2</caption>\n",
       "<thead>\n",
       "\t<tr><th scope=col>country</th><th scope=col>total_cases</th></tr>\n",
       "\t<tr><th scope=col>&lt;chr&gt;</th><th scope=col>&lt;dbl&gt;</th></tr>\n",
       "</thead>\n",
       "<tbody>\n",
       "\t<tr><td>US            </td><td>101044032</td></tr>\n",
       "\t<tr><td>India         </td><td> 44680543</td></tr>\n",
       "\t<tr><td>France        </td><td> 39574616</td></tr>\n",
       "\t<tr><td>Germany       </td><td> 37475448</td></tr>\n",
       "\t<tr><td>Brazil        </td><td> 36423138</td></tr>\n",
       "\t<tr><td>Japan         </td><td> 29594073</td></tr>\n",
       "\t<tr><td>Korea, South  </td><td> 29363272</td></tr>\n",
       "\t<tr><td>Italy         </td><td> 25143705</td></tr>\n",
       "\t<tr><td>United Kingdom</td><td> 24366259</td></tr>\n",
       "\t<tr><td>Russia        </td><td> 21505701</td></tr>\n",
       "</tbody>\n",
       "</table>\n"
      ],
      "text/latex": [
       "A tibble: 10 × 2\n",
       "\\begin{tabular}{ll}\n",
       " country & total\\_cases\\\\\n",
       " <chr> & <dbl>\\\\\n",
       "\\hline\n",
       "\t US             & 101044032\\\\\n",
       "\t India          &  44680543\\\\\n",
       "\t France         &  39574616\\\\\n",
       "\t Germany        &  37475448\\\\\n",
       "\t Brazil         &  36423138\\\\\n",
       "\t Japan          &  29594073\\\\\n",
       "\t Korea, South   &  29363272\\\\\n",
       "\t Italy          &  25143705\\\\\n",
       "\t United Kingdom &  24366259\\\\\n",
       "\t Russia         &  21505701\\\\\n",
       "\\end{tabular}\n"
      ],
      "text/markdown": [
       "\n",
       "A tibble: 10 × 2\n",
       "\n",
       "| country &lt;chr&gt; | total_cases &lt;dbl&gt; |\n",
       "|---|---|\n",
       "| US             | 101044032 |\n",
       "| India          |  44680543 |\n",
       "| France         |  39574616 |\n",
       "| Germany        |  37475448 |\n",
       "| Brazil         |  36423138 |\n",
       "| Japan          |  29594073 |\n",
       "| Korea, South   |  29363272 |\n",
       "| Italy          |  25143705 |\n",
       "| United Kingdom |  24366259 |\n",
       "| Russia         |  21505701 |\n",
       "\n"
      ],
      "text/plain": [
       "   country        total_cases\n",
       "1  US             101044032  \n",
       "2  India           44680543  \n",
       "3  France          39574616  \n",
       "4  Germany         37475448  \n",
       "5  Brazil          36423138  \n",
       "6  Japan           29594073  \n",
       "7  Korea, South    29363272  \n",
       "8  Italy           25143705  \n",
       "9  United Kingdom  24366259  \n",
       "10 Russia          21505701  "
      ]
     },
     "metadata": {},
     "output_type": "display_data"
    }
   ],
   "source": [
    "# Identifying top 10 countries with highest total COVID-19 case count\n",
    "confirmed_cases_by_country <- coronavirus %>% \n",
    "  filter(type == \"confirmed\") %>%\n",
    "  group_by(country) %>%\n",
    "  summarise(total_cases = sum(cases)) %>%\n",
    "  arrange(-total_cases)\n",
    "\n",
    "head(confirmed_cases_by_country, 10)"
   ]
  },
  {
   "cell_type": "code",
   "execution_count": 11,
   "id": "b4bb2512",
   "metadata": {
    "execution": {
     "iopub.execute_input": "2024-02-22T17:20:30.634951Z",
     "iopub.status.busy": "2024-02-22T17:20:30.633087Z",
     "iopub.status.idle": "2024-02-22T17:20:30.904689Z",
     "shell.execute_reply": "2024-02-22T17:20:30.902724Z"
    },
    "papermill": {
     "duration": 0.294261,
     "end_time": "2024-02-22T17:20:30.907191",
     "exception": false,
     "start_time": "2024-02-22T17:20:30.612930",
     "status": "completed"
    },
    "tags": []
   },
   "outputs": [
    {
     "data": {
      "image/png": "[encoded data removed]"
     },
     "metadata": {
      "image/png": {
       "height": 420,
       "width": 420
      }
     },
     "output_type": "display_data"
    }
   ],
   "source": [
    "ggplot(head(confirmed_cases_by_country,10), aes(x = reorder(country, -total_cases), y = total_cases)) +\n",
    "  geom_bar(stat = \"identity\", fill = \"#99E1D9\") +\n",
    "  scale_y_continuous(labels = label_comma()) +\n",
    "  labs(title = \"Global COVID-19 Hotspots\",\n",
    "       subtitle = \"Ranking the Top 10 Countries by Total Confirmed Cases\",\n",
    "       x = \"Country\",\n",
    "       y = \"Total Confirmed Cases\") +\n",
    "  theme(axis.text.x = element_text(angle = 45, hjust = 1))"
   ]
  },
  {
   "cell_type": "markdown",
   "id": "623ccd13",
   "metadata": {
    "papermill": {
     "duration": 0.019389,
     "end_time": "2024-02-22T17:20:30.945200",
     "exception": false,
     "start_time": "2024-02-22T17:20:30.925811",
     "status": "completed"
    },
    "tags": []
   },
   "source": [
    "The visualization depicting the top 10 countries with the highest number of confirmed COVID-19 cases reveals:\n",
    "\n",
    "* The United States leads with the highest tally of confirmed cases, substantially outpacing other nations in the top 10 list.\n",
    "* India is second, with its confirmed case count approximately half that of the United States.\n",
    "* European nations, including France, Germany, Italy, and the United Kingdom, are prominently featured, reflecting intense viral spread within these regions.\n",
    "* Brazil stands as the representative for South America in the top 10, indicating the pandemic's significant toll there.\n",
    "* The presence of India, Japan, and South Korea highlights the extensive effect of the virus across various Asian locales.\n",
    "* A distinct decline in confirmed cases is evident from the top-ranked country to the tenth, with the United States having over twice the number of cases as France, which ranks third.\n",
    "\n",
    "To enhance our comprehension of the situation, we will next analyze the reported case figures in relation to the overall populations of the specified countries."
   ]
  },
  {
   "cell_type": "code",
   "execution_count": 12,
   "id": "80367774",
   "metadata": {
    "execution": {
     "iopub.execute_input": "2024-02-22T17:20:30.986613Z",
     "iopub.status.busy": "2024-02-22T17:20:30.984660Z",
     "iopub.status.idle": "2024-02-22T17:20:31.199073Z",
     "shell.execute_reply": "2024-02-22T17:20:31.197276Z"
    },
    "papermill": {
     "duration": 0.23754,
     "end_time": "2024-02-22T17:20:31.201406",
     "exception": false,
     "start_time": "2024-02-22T17:20:30.963866",
     "status": "completed"
    },
    "tags": []
   },
   "outputs": [
    {
     "data": {
      "text/html": [
       "<table class=\"dataframe\">\n",
       "<caption>A tibble: 10 × 3</caption>\n",
       "<thead>\n",
       "\t<tr><th scope=col>country</th><th scope=col>total_cases</th><th scope=col>population</th></tr>\n",
       "\t<tr><th scope=col>&lt;chr&gt;</th><th scope=col>&lt;dbl&gt;</th><th scope=col>&lt;dbl&gt;</th></tr>\n",
       "</thead>\n",
       "<tbody>\n",
       "\t<tr><td>US            </td><td>101044032</td><td> 329466283</td></tr>\n",
       "\t<tr><td>India         </td><td> 44680543</td><td>1380004385</td></tr>\n",
       "\t<tr><td>France        </td><td> 39574616</td><td>  65273512</td></tr>\n",
       "\t<tr><td>Germany       </td><td> 37475448</td><td>  83783945</td></tr>\n",
       "\t<tr><td>Brazil        </td><td> 36423138</td><td> 212559409</td></tr>\n",
       "\t<tr><td>Japan         </td><td> 29594073</td><td> 126476458</td></tr>\n",
       "\t<tr><td>Korea, South  </td><td> 29363272</td><td>  51269183</td></tr>\n",
       "\t<tr><td>Italy         </td><td> 25143705</td><td>  60461828</td></tr>\n",
       "\t<tr><td>United Kingdom</td><td> 24266706</td><td>  67886004</td></tr>\n",
       "\t<tr><td>Russia        </td><td> 21505701</td><td> 145934460</td></tr>\n",
       "</tbody>\n",
       "</table>\n"
      ],
      "text/latex": [
       "A tibble: 10 × 3\n",
       "\\begin{tabular}{lll}\n",
       " country & total\\_cases & population\\\\\n",
       " <chr> & <dbl> & <dbl>\\\\\n",
       "\\hline\n",
       "\t US             & 101044032 &  329466283\\\\\n",
       "\t India          &  44680543 & 1380004385\\\\\n",
       "\t France         &  39574616 &   65273512\\\\\n",
       "\t Germany        &  37475448 &   83783945\\\\\n",
       "\t Brazil         &  36423138 &  212559409\\\\\n",
       "\t Japan          &  29594073 &  126476458\\\\\n",
       "\t Korea, South   &  29363272 &   51269183\\\\\n",
       "\t Italy          &  25143705 &   60461828\\\\\n",
       "\t United Kingdom &  24266706 &   67886004\\\\\n",
       "\t Russia         &  21505701 &  145934460\\\\\n",
       "\\end{tabular}\n"
      ],
      "text/markdown": [
       "\n",
       "A tibble: 10 × 3\n",
       "\n",
       "| country &lt;chr&gt; | total_cases &lt;dbl&gt; | population &lt;dbl&gt; |\n",
       "|---|---|---|\n",
       "| US             | 101044032 |  329466283 |\n",
       "| India          |  44680543 | 1380004385 |\n",
       "| France         |  39574616 |   65273512 |\n",
       "| Germany        |  37475448 |   83783945 |\n",
       "| Brazil         |  36423138 |  212559409 |\n",
       "| Japan          |  29594073 |  126476458 |\n",
       "| Korea, South   |  29363272 |   51269183 |\n",
       "| Italy          |  25143705 |   60461828 |\n",
       "| United Kingdom |  24266706 |   67886004 |\n",
       "| Russia         |  21505701 |  145934460 |\n",
       "\n"
      ],
      "text/plain": [
       "   country        total_cases population\n",
       "1  US             101044032    329466283\n",
       "2  India           44680543   1380004385\n",
       "3  France          39574616     65273512\n",
       "4  Germany         37475448     83783945\n",
       "5  Brazil          36423138    212559409\n",
       "6  Japan           29594073    126476458\n",
       "7  Korea, South    29363272     51269183\n",
       "8  Italy           25143705     60461828\n",
       "9  United Kingdom  24266706     67886004\n",
       "10 Russia          21505701    145934460"
      ]
     },
     "metadata": {},
     "output_type": "display_data"
    }
   ],
   "source": [
    "coronavirus_cleaned_confirmed <- coronavirus %>%\n",
    "  filter(!is.na(population), type == \"confirmed\")\n",
    "\n",
    "confirmed_cases_by_country <- coronavirus_cleaned_confirmed %>% \n",
    "  filter(type == \"confirmed\") %>%\n",
    "  group_by(country) %>%\n",
    "  summarise(total_cases = sum(cases),\n",
    "  population = max(population)) %>%\n",
    "  arrange(-total_cases)\n",
    "\n",
    "head(confirmed_cases_by_country,10)"
   ]
  },
  {
   "cell_type": "code",
   "execution_count": 13,
   "id": "5cd2892e",
   "metadata": {
    "execution": {
     "iopub.execute_input": "2024-02-22T17:20:31.243075Z",
     "iopub.status.busy": "2024-02-22T17:20:31.241427Z",
     "iopub.status.idle": "2024-02-22T17:20:31.674834Z",
     "shell.execute_reply": "2024-02-22T17:20:31.672820Z"
    },
    "papermill": {
     "duration": 0.457296,
     "end_time": "2024-02-22T17:20:31.677555",
     "exception": false,
     "start_time": "2024-02-22T17:20:31.220259",
     "status": "completed"
    },
    "tags": []
   },
   "outputs": [
    {
     "data": {
      "image/png": "[encoded data removed]"
     },
     "metadata": {
      "image/png": {
       "height": 420,
       "width": 420
      }
     },
     "output_type": "display_data"
    }
   ],
   "source": [
    "ggplot(head(confirmed_cases_by_country,10), aes(x = reorder(country, -total_cases), y = population)) +\n",
    "  geom_bar(aes(y = population, fill = \"Population\"), stat = \"identity\") +\n",
    "  geom_bar(aes(y = total_cases, fill = \"Total Cases\"), stat = \"identity\") +\n",
    "  scale_fill_manual(values = c(\"Population\" = \"orange\", \"Total Cases\" = \"#99E1D9\"), name = \"Legend\") +\n",
    "  scale_y_continuous(labels = label_comma()) +\n",
    "  labs(title = \"COVID-19 Cases in Top 10 Countries Against Total Population\",\n",
    "       subtitle = \"Exploring the Relationship Between Population Size and Confirmed COVID-19 Cases\",\n",
    "       x = \"Country\",\n",
    "       y = \"Total Population\") +\n",
    "  theme(axis.text.x = element_text(angle = 45, hjust = 1)) "
   ]
  },
  {
   "cell_type": "markdown",
   "id": "ae6860d9",
   "metadata": {
    "papermill": {
     "duration": 0.020852,
     "end_time": "2024-02-22T17:20:31.718967",
     "exception": false,
     "start_time": "2024-02-22T17:20:31.698115",
     "status": "completed"
    },
    "tags": []
   },
   "source": [
    "By comparing the two visualizations, which depict the top 10 COVID-19 hotspots and total population vs. confirmed COVID-19 cases, we can draw the following conclusions:\n",
    "\n",
    "* **Variation in Scale:** The second chart contrasts the total population sizes with the numbers of confirmed COVID-19 cases, highlighting significant variances in population across the countries. For example, the graphical representation of India's population is significantly larger than that of other countries, making the number of confirmed cases seem relatively small in comparison.\n",
    "\n",
    "* **Challenges in Case Visualization:** In the second chart, the confirmed cases are depicted in a distinct color within the bars representing population sizes. However, this method of visualization faces challenges due to the overwhelming population numbers, especially in countries like India, where the vast population size greatly dwarfs the case figures.\n",
    "\n",
    "* **Comparison of Cases and Population Sizes:** The second visualization emphasizes that the number of confirmed cases does not directly correspond to population sizes. With the US and India's case numbers placed side by side against the backdrop of the US's smaller population size, it indicates a more significant per capita effect in the US.\n",
    "\n",
    "* **Interpreting the Visuals:** While the first visualization provides a clear comparison of confirmed cases among countries, the second one plays a crucial role in placing these numbers within the context of each country's total population size, offering a broader perspective on the demographic implications."
   ]
  },
  {
   "cell_type": "markdown",
   "id": "3154b944",
   "metadata": {
    "papermill": {
     "duration": 0.020512,
     "end_time": "2024-02-22T17:20:31.760265",
     "exception": false,
     "start_time": "2024-02-22T17:20:31.739753",
     "status": "completed"
    },
    "tags": []
   },
   "source": [
    "### Which Countries Report the Highest Total COVID-19-Related Deaths"
   ]
  },
  {
   "cell_type": "code",
   "execution_count": 14,
   "id": "a4e2c207",
   "metadata": {
    "execution": {
     "iopub.execute_input": "2024-02-22T17:20:31.804908Z",
     "iopub.status.busy": "2024-02-22T17:20:31.803208Z",
     "iopub.status.idle": "2024-02-22T17:20:31.887367Z",
     "shell.execute_reply": "2024-02-22T17:20:31.885539Z"
    },
    "papermill": {
     "duration": 0.109406,
     "end_time": "2024-02-22T17:20:31.889932",
     "exception": false,
     "start_time": "2024-02-22T17:20:31.780526",
     "status": "completed"
    },
    "tags": []
   },
   "outputs": [
    {
     "data": {
      "text/html": [
       "<table class=\"dataframe\">\n",
       "<caption>A tibble: 10 × 2</caption>\n",
       "<thead>\n",
       "\t<tr><th scope=col>country</th><th scope=col>total_deaths</th></tr>\n",
       "\t<tr><th scope=col>&lt;chr&gt;</th><th scope=col>&lt;dbl&gt;</th></tr>\n",
       "</thead>\n",
       "<tbody>\n",
       "\t<tr><td>US            </td><td>1095235</td></tr>\n",
       "\t<tr><td>Netherlands   </td><td> 833616</td></tr>\n",
       "\t<tr><td>Brazil        </td><td> 694411</td></tr>\n",
       "\t<tr><td>India         </td><td> 530710</td></tr>\n",
       "\t<tr><td>Russia        </td><td> 385971</td></tr>\n",
       "\t<tr><td>Mexico        </td><td> 331206</td></tr>\n",
       "\t<tr><td>Peru          </td><td> 218304</td></tr>\n",
       "\t<tr><td>United Kingdom</td><td> 213998</td></tr>\n",
       "\t<tr><td>Italy         </td><td> 184642</td></tr>\n",
       "\t<tr><td>France        </td><td> 163541</td></tr>\n",
       "</tbody>\n",
       "</table>\n"
      ],
      "text/latex": [
       "A tibble: 10 × 2\n",
       "\\begin{tabular}{ll}\n",
       " country & total\\_deaths\\\\\n",
       " <chr> & <dbl>\\\\\n",
       "\\hline\n",
       "\t US             & 1095235\\\\\n",
       "\t Netherlands    &  833616\\\\\n",
       "\t Brazil         &  694411\\\\\n",
       "\t India          &  530710\\\\\n",
       "\t Russia         &  385971\\\\\n",
       "\t Mexico         &  331206\\\\\n",
       "\t Peru           &  218304\\\\\n",
       "\t United Kingdom &  213998\\\\\n",
       "\t Italy          &  184642\\\\\n",
       "\t France         &  163541\\\\\n",
       "\\end{tabular}\n"
      ],
      "text/markdown": [
       "\n",
       "A tibble: 10 × 2\n",
       "\n",
       "| country &lt;chr&gt; | total_deaths &lt;dbl&gt; |\n",
       "|---|---|\n",
       "| US             | 1095235 |\n",
       "| Netherlands    |  833616 |\n",
       "| Brazil         |  694411 |\n",
       "| India          |  530710 |\n",
       "| Russia         |  385971 |\n",
       "| Mexico         |  331206 |\n",
       "| Peru           |  218304 |\n",
       "| United Kingdom |  213998 |\n",
       "| Italy          |  184642 |\n",
       "| France         |  163541 |\n",
       "\n"
      ],
      "text/plain": [
       "   country        total_deaths\n",
       "1  US             1095235     \n",
       "2  Netherlands     833616     \n",
       "3  Brazil          694411     \n",
       "4  India           530710     \n",
       "5  Russia          385971     \n",
       "6  Mexico          331206     \n",
       "7  Peru            218304     \n",
       "8  United Kingdom  213998     \n",
       "9  Italy           184642     \n",
       "10 France          163541     "
      ]
     },
     "metadata": {},
     "output_type": "display_data"
    }
   ],
   "source": [
    "# Identifying top 10 countries with highest total COVID-19 death count\n",
    "deaths_by_country <- coronavirus %>% \n",
    "  filter(type == \"death\") %>%\n",
    "  group_by(country) %>%\n",
    "  summarise(total_deaths = sum(cases)) %>%\n",
    "  arrange(-total_deaths)\n",
    "\n",
    "head(deaths_by_country, 10)"
   ]
  },
  {
   "cell_type": "markdown",
   "id": "925b4e8c",
   "metadata": {
    "papermill": {
     "duration": 0.020671,
     "end_time": "2024-02-22T17:20:31.931752",
     "exception": false,
     "start_time": "2024-02-22T17:20:31.911081",
     "status": "completed"
    },
    "tags": []
   },
   "source": [
    "An investigation into further sources online indicates that the placement of the Netherlands as the second-highest in reported figures, with 833,616 cases, significantly deviates from the accurate figure of 23,705 (as reported on February 21, 2024, by Johns Hopkins University). To understand the origins of this discrepancy, a more detailed examination of the COVID-19 data for the Netherlands will be conducted in the following step."
   ]
  },
  {
   "cell_type": "code",
   "execution_count": 15,
   "id": "1b1e5e77",
   "metadata": {
    "execution": {
     "iopub.execute_input": "2024-02-22T17:20:31.977308Z",
     "iopub.status.busy": "2024-02-22T17:20:31.975647Z",
     "iopub.status.idle": "2024-02-22T17:20:32.022772Z",
     "shell.execute_reply": "2024-02-22T17:20:32.020999Z"
    },
    "papermill": {
     "duration": 0.072969,
     "end_time": "2024-02-22T17:20:32.025292",
     "exception": false,
     "start_time": "2024-02-22T17:20:31.952323",
     "status": "completed"
    },
    "tags": []
   },
   "outputs": [
    {
     "data": {
      "text/plain": [
       "      date              province           country               lat       \n",
       " Min.   :2020-01-22   Length:5395        Length:5395        Min.   :12.17  \n",
       " 1st Qu.:2020-10-17   Class :character   Class :character   1st Qu.:12.18  \n",
       " Median :2021-07-14   Mode  :character   Mode  :character   Median :12.52  \n",
       " Mean   :2021-07-14                                         Mean   :21.41  \n",
       " 3rd Qu.:2022-04-10                                         3rd Qu.:18.04  \n",
       " Max.   :2023-01-04                                         Max.   :52.13  \n",
       "      long             type               cases               uid       \n",
       " Min.   :-69.968   Length:5395        Min.   :   -59.0   Min.   :528.0  \n",
       " 1st Qu.:-68.990   Class :character   1st Qu.:     0.0   1st Qu.:531.0  \n",
       " Median :-68.239   Mode  :character   Median :     0.0   Median :533.0  \n",
       " Mean   :-52.992                      Mean   :   154.5   Mean   :532.2  \n",
       " 3rd Qu.:-63.055                      3rd Qu.:     0.0   3rd Qu.:534.0  \n",
       " Max.   :  5.291                      Max.   :809919.0   Max.   :535.0  \n",
       "     iso2               iso3               code3       combined_key      \n",
       " Length:5395        Length:5395        Min.   :528.0   Length:5395       \n",
       " Class :character   Class :character   1st Qu.:531.0   Class :character  \n",
       " Mode  :character   Mode  :character   Median :533.0   Mode  :character  \n",
       "                                       Mean   :532.2                     \n",
       "                                       3rd Qu.:534.0                     \n",
       "                                       Max.   :535.0                     \n",
       "   population       continent_name     continent_code    \n",
       " Min.   :   26221   Length:5395        Length:5395       \n",
       " 1st Qu.:   42882   Class :character   Class :character  \n",
       " Median :  106766   Mode  :character   Mode  :character  \n",
       " Mean   : 3494968                                        \n",
       " 3rd Qu.:  164100                                        \n",
       " Max.   :17134873                                        "
      ]
     },
     "metadata": {},
     "output_type": "display_data"
    }
   ],
   "source": [
    "netherlands_data <- coronavirus %>% \n",
    "  filter(country == \"Netherlands\", type == \"death\")\n",
    "  \n",
    "summary(netherlands_data)"
   ]
  },
  {
   "cell_type": "markdown",
   "id": "59a7eaa8",
   "metadata": {
    "papermill": {
     "duration": 0.02042,
     "end_time": "2024-02-22T17:20:32.066379",
     "exception": false,
     "start_time": "2024-02-22T17:20:32.045959",
     "status": "completed"
    },
    "tags": []
   },
   "source": [
    "The summary of our data for the Netherlands highlights several potential factors contributing to the issue of an overstated death count:\n",
    "\n",
    "* **Provinces and Constituent Countries:** The dataset seems to contain multiple records for different provinces or constituent countries, all labeled as \"Netherlands.\" This could result in double-counting if these records are aggregated under a single \"Netherlands\" category.\n",
    "\n",
    "* **Negative Case Numbers:** The dataset includes negative case numbers, likely representing adjustments to previously reported data.\n",
    "\n",
    "* **Data Outliers:** The presence of at least one exceptionally high figure in the cases column (Maximum: 809,919) may be disproportionately inflating the total sum."
   ]
  },
  {
   "cell_type": "code",
   "execution_count": 16,
   "id": "d309be61",
   "metadata": {
    "execution": {
     "iopub.execute_input": "2024-02-22T17:20:32.111699Z",
     "iopub.status.busy": "2024-02-22T17:20:32.110108Z",
     "iopub.status.idle": "2024-02-22T17:20:32.257289Z",
     "shell.execute_reply": "2024-02-22T17:20:32.254778Z"
    },
    "papermill": {
     "duration": 0.173111,
     "end_time": "2024-02-22T17:20:32.260475",
     "exception": false,
     "start_time": "2024-02-22T17:20:32.087364",
     "status": "completed"
    },
    "tags": []
   },
   "outputs": [
    {
     "data": {
      "text/html": [
       "<table class=\"dataframe\">\n",
       "<caption>A tibble: 10 × 2</caption>\n",
       "<thead>\n",
       "\t<tr><th scope=col>date</th><th scope=col>daily_deaths</th></tr>\n",
       "\t<tr><th scope=col>&lt;date&gt;</th><th scope=col>&lt;dbl&gt;</th></tr>\n",
       "</thead>\n",
       "<tbody>\n",
       "\t<tr><td>2023-01-04</td><td>809919</td></tr>\n",
       "\t<tr><td>2020-04-07</td><td>   234</td></tr>\n",
       "\t<tr><td>2020-04-15</td><td>   190</td></tr>\n",
       "\t<tr><td>2021-01-05</td><td>   188</td></tr>\n",
       "\t<tr><td>2020-04-16</td><td>   182</td></tr>\n",
       "\t<tr><td>2020-03-31</td><td>   175</td></tr>\n",
       "\t<tr><td>2020-12-29</td><td>   170</td></tr>\n",
       "\t<tr><td>2020-04-02</td><td>   166</td></tr>\n",
       "\t<tr><td>2020-04-04</td><td>   166</td></tr>\n",
       "\t<tr><td>2020-04-21</td><td>   165</td></tr>\n",
       "</tbody>\n",
       "</table>\n"
      ],
      "text/latex": [
       "A tibble: 10 × 2\n",
       "\\begin{tabular}{ll}\n",
       " date & daily\\_deaths\\\\\n",
       " <date> & <dbl>\\\\\n",
       "\\hline\n",
       "\t 2023-01-04 & 809919\\\\\n",
       "\t 2020-04-07 &    234\\\\\n",
       "\t 2020-04-15 &    190\\\\\n",
       "\t 2021-01-05 &    188\\\\\n",
       "\t 2020-04-16 &    182\\\\\n",
       "\t 2020-03-31 &    175\\\\\n",
       "\t 2020-12-29 &    170\\\\\n",
       "\t 2020-04-02 &    166\\\\\n",
       "\t 2020-04-04 &    166\\\\\n",
       "\t 2020-04-21 &    165\\\\\n",
       "\\end{tabular}\n"
      ],
      "text/markdown": [
       "\n",
       "A tibble: 10 × 2\n",
       "\n",
       "| date &lt;date&gt; | daily_deaths &lt;dbl&gt; |\n",
       "|---|---|\n",
       "| 2023-01-04 | 809919 |\n",
       "| 2020-04-07 |    234 |\n",
       "| 2020-04-15 |    190 |\n",
       "| 2021-01-05 |    188 |\n",
       "| 2020-04-16 |    182 |\n",
       "| 2020-03-31 |    175 |\n",
       "| 2020-12-29 |    170 |\n",
       "| 2020-04-02 |    166 |\n",
       "| 2020-04-04 |    166 |\n",
       "| 2020-04-21 |    165 |\n",
       "\n"
      ],
      "text/plain": [
       "   date       daily_deaths\n",
       "1  2023-01-04 809919      \n",
       "2  2020-04-07    234      \n",
       "3  2020-04-15    190      \n",
       "4  2021-01-05    188      \n",
       "5  2020-04-16    182      \n",
       "6  2020-03-31    175      \n",
       "7  2020-12-29    170      \n",
       "8  2020-04-02    166      \n",
       "9  2020-04-04    166      \n",
       "10 2020-04-21    165      "
      ]
     },
     "metadata": {},
     "output_type": "display_data"
    }
   ],
   "source": [
    "# Summarizing death counts at the country level, filtering out negative case numbers\n",
    "deaths_by_country <- coronavirus %>% \n",
    "  filter(cases >= 0, type == \"death\") %>%\n",
    "  group_by(country) %>%\n",
    "  summarise(total_deaths = sum(cases)) %>%\n",
    "  arrange(-total_deaths)\n",
    "\n",
    "# Checking the data for the Netherlands specifically by calculating the days with the highest deaths reported\n",
    "netherlands_deaths <- coronavirus %>% \n",
    "  filter(country == \"Netherlands\", type == \"death\", cases >= 0) %>%\n",
    "  group_by(date) %>%\n",
    "  summarise(daily_deaths = sum(cases)) %>%\n",
    "  arrange(-daily_deaths)\n",
    "\n",
    "head(netherlands_deaths, 10)"
   ]
  },
  {
   "cell_type": "markdown",
   "id": "5784facb",
   "metadata": {
    "papermill": {
     "duration": 0.0207,
     "end_time": "2024-02-22T17:20:32.302019",
     "exception": false,
     "start_time": "2024-02-22T17:20:32.281319",
     "status": "completed"
    },
    "tags": []
   },
   "source": [
    "The output clearly identifies a major outlier on January 4, 2023, indicating 809,919 daily deaths, a figure that is exceedingly improbable and likely stems from a data entry mistake or an adjustment for cumulative reporting.\n",
    "\n",
    "For the purpose of refining our analysis, we will proceed by omitting this outlier from further consideration."
   ]
  },
  {
   "cell_type": "code",
   "execution_count": 17,
   "id": "7b1892b9",
   "metadata": {
    "execution": {
     "iopub.execute_input": "2024-02-22T17:20:32.347627Z",
     "iopub.status.busy": "2024-02-22T17:20:32.346011Z",
     "iopub.status.idle": "2024-02-22T17:20:32.999421Z",
     "shell.execute_reply": "2024-02-22T17:20:32.997066Z"
    },
    "papermill": {
     "duration": 0.679172,
     "end_time": "2024-02-22T17:20:33.002303",
     "exception": false,
     "start_time": "2024-02-22T17:20:32.323131",
     "status": "completed"
    },
    "tags": []
   },
   "outputs": [
    {
     "data": {
      "text/html": [
       "<table class=\"dataframe\">\n",
       "<caption>A tibble: 10 × 2</caption>\n",
       "<thead>\n",
       "\t<tr><th scope=col>country</th><th scope=col>total_deaths</th></tr>\n",
       "\t<tr><th scope=col>&lt;chr&gt;</th><th scope=col>&lt;dbl&gt;</th></tr>\n",
       "</thead>\n",
       "<tbody>\n",
       "\t<tr><td>US            </td><td>1095235</td></tr>\n",
       "\t<tr><td>Brazil        </td><td> 694411</td></tr>\n",
       "\t<tr><td>India         </td><td> 530710</td></tr>\n",
       "\t<tr><td>Russia        </td><td> 385971</td></tr>\n",
       "\t<tr><td>Mexico        </td><td> 331206</td></tr>\n",
       "\t<tr><td>Peru          </td><td> 218304</td></tr>\n",
       "\t<tr><td>United Kingdom</td><td> 213998</td></tr>\n",
       "\t<tr><td>Italy         </td><td> 184642</td></tr>\n",
       "\t<tr><td>France        </td><td> 163541</td></tr>\n",
       "\t<tr><td>Germany       </td><td> 162256</td></tr>\n",
       "</tbody>\n",
       "</table>\n"
      ],
      "text/latex": [
       "A tibble: 10 × 2\n",
       "\\begin{tabular}{ll}\n",
       " country & total\\_deaths\\\\\n",
       " <chr> & <dbl>\\\\\n",
       "\\hline\n",
       "\t US             & 1095235\\\\\n",
       "\t Brazil         &  694411\\\\\n",
       "\t India          &  530710\\\\\n",
       "\t Russia         &  385971\\\\\n",
       "\t Mexico         &  331206\\\\\n",
       "\t Peru           &  218304\\\\\n",
       "\t United Kingdom &  213998\\\\\n",
       "\t Italy          &  184642\\\\\n",
       "\t France         &  163541\\\\\n",
       "\t Germany        &  162256\\\\\n",
       "\\end{tabular}\n"
      ],
      "text/markdown": [
       "\n",
       "A tibble: 10 × 2\n",
       "\n",
       "| country &lt;chr&gt; | total_deaths &lt;dbl&gt; |\n",
       "|---|---|\n",
       "| US             | 1095235 |\n",
       "| Brazil         |  694411 |\n",
       "| India          |  530710 |\n",
       "| Russia         |  385971 |\n",
       "| Mexico         |  331206 |\n",
       "| Peru           |  218304 |\n",
       "| United Kingdom |  213998 |\n",
       "| Italy          |  184642 |\n",
       "| France         |  163541 |\n",
       "| Germany        |  162256 |\n",
       "\n"
      ],
      "text/plain": [
       "   country        total_deaths\n",
       "1  US             1095235     \n",
       "2  Brazil          694411     \n",
       "3  India           530710     \n",
       "4  Russia          385971     \n",
       "5  Mexico          331206     \n",
       "6  Peru            218304     \n",
       "7  United Kingdom  213998     \n",
       "8  Italy           184642     \n",
       "9  France          163541     \n",
       "10 Germany         162256     "
      ]
     },
     "metadata": {},
     "output_type": "display_data"
    }
   ],
   "source": [
    "# Filtering out the specific outlier for the Netherlands\n",
    "coronavirus_filtered <- coronavirus %>% \n",
    "  filter(!(country == \"Netherlands\" & date == as.Date(\"2023-01-04\") & type == \"death\"))\n",
    "\n",
    "# Summarizing death counts again without the outlier\n",
    "deaths_by_country <- coronavirus_filtered %>% \n",
    "  filter(type == \"death\") %>%\n",
    "  group_by(country) %>%\n",
    "  summarise(total_deaths = sum(cases, na.rm = TRUE)) %>%\n",
    "  arrange(-total_deaths)\n",
    "\n",
    "head(deaths_by_country, 10)"
   ]
  },
  {
   "cell_type": "code",
   "execution_count": 18,
   "id": "0e275f68",
   "metadata": {
    "execution": {
     "iopub.execute_input": "2024-02-22T17:20:33.051168Z",
     "iopub.status.busy": "2024-02-22T17:20:33.049541Z",
     "iopub.status.idle": "2024-02-22T17:20:33.318649Z",
     "shell.execute_reply": "2024-02-22T17:20:33.315797Z"
    },
    "papermill": {
     "duration": 0.298454,
     "end_time": "2024-02-22T17:20:33.322056",
     "exception": false,
     "start_time": "2024-02-22T17:20:33.023602",
     "status": "completed"
    },
    "tags": []
   },
   "outputs": [
    {
     "data": {
      "image/png": "[encoded data removed]"
     },
     "metadata": {
      "image/png": {
       "height": 420,
       "width": 420
      }
     },
     "output_type": "display_data"
    }
   ],
   "source": [
    "ggplot(head(deaths_by_country,10), aes(x = reorder(country, -total_deaths), y = total_deaths)) +\n",
    "  geom_bar(stat = \"identity\", fill = \"#5D576B\") +\n",
    "  scale_y_continuous(labels = label_comma()) +\n",
    "  labs(title = \"Top 10 Countries with the Highest COVID-19 Deaths\",\n",
    "       x = \"Country\",\n",
    "       y = \"Total Confirmed Deaths\") +\n",
    "  theme(axis.text.x = element_text(angle = 45, hjust = 1))"
   ]
  },
  {
   "cell_type": "markdown",
   "id": "4d08e306",
   "metadata": {
    "papermill": {
     "duration": 0.022361,
     "end_time": "2024-02-22T17:20:33.368362",
     "exception": false,
     "start_time": "2024-02-22T17:20:33.346001",
     "status": "completed"
    },
    "tags": []
   },
   "source": [
    "The visualization showcasing the top 10 countries with the highest confirmed COVID-19 deaths permits the following observations:\n",
    "\n",
    "* The United States occupies the foremost position in terms of confirmed fatalities, followed by Brazil, India, and Russia, in that order.\n",
    "* There is a clear sequential decrease in death counts from the United States onwards, with the US experiencing a notably higher number of deaths compared to the rest.\n",
    "* The death toll in the initial four countries (the US, Brazil, India, and Russia) markedly surpasses that in the remaining six, highlighting a more pronounced effect in terms of loss of life in these nations.\n",
    "* The presence of European nations such as the United Kingdom, Italy, Germany, and France on this list underscores the significant mortality experienced in Europe.\n",
    "* The inclusion of Latin American countries—Brazil, Mexico, and Peru—among the top 10 underscores the grave repercussions of COVID-19 in this region.\n",
    "\n",
    "In our effort to gain a clearer perspective on the death tolls, we will proceed to evaluate them against the total confirmed cases of the countries mentioned."
   ]
  },
  {
   "cell_type": "code",
   "execution_count": 19,
   "id": "952ec0d7",
   "metadata": {
    "execution": {
     "iopub.execute_input": "2024-02-22T17:20:33.416842Z",
     "iopub.status.busy": "2024-02-22T17:20:33.415117Z",
     "iopub.status.idle": "2024-02-22T17:20:33.556354Z",
     "shell.execute_reply": "2024-02-22T17:20:33.554509Z"
    },
    "papermill": {
     "duration": 0.16851,
     "end_time": "2024-02-22T17:20:33.558972",
     "exception": false,
     "start_time": "2024-02-22T17:20:33.390462",
     "status": "completed"
    },
    "tags": []
   },
   "outputs": [
    {
     "data": {
      "text/html": [
       "<table class=\"dataframe\">\n",
       "<caption>A tibble: 10 × 3</caption>\n",
       "<thead>\n",
       "\t<tr><th scope=col>country</th><th scope=col>total_deaths</th><th scope=col>population</th></tr>\n",
       "\t<tr><th scope=col>&lt;chr&gt;</th><th scope=col>&lt;dbl&gt;</th><th scope=col>&lt;dbl&gt;</th></tr>\n",
       "</thead>\n",
       "<tbody>\n",
       "\t<tr><td>US            </td><td>1095235</td><td> 329466283</td></tr>\n",
       "\t<tr><td>Brazil        </td><td> 694411</td><td> 212559409</td></tr>\n",
       "\t<tr><td>India         </td><td> 530710</td><td>1380004385</td></tr>\n",
       "\t<tr><td>Russia        </td><td> 385971</td><td> 145934460</td></tr>\n",
       "\t<tr><td>Mexico        </td><td> 331206</td><td> 127792286</td></tr>\n",
       "\t<tr><td>Peru          </td><td> 218304</td><td>  32971846</td></tr>\n",
       "\t<tr><td>United Kingdom</td><td> 213786</td><td>  67886004</td></tr>\n",
       "\t<tr><td>Italy         </td><td> 184642</td><td>  60461828</td></tr>\n",
       "\t<tr><td>France        </td><td> 163541</td><td>  65273512</td></tr>\n",
       "\t<tr><td>Germany       </td><td> 162256</td><td>  83783945</td></tr>\n",
       "</tbody>\n",
       "</table>\n"
      ],
      "text/latex": [
       "A tibble: 10 × 3\n",
       "\\begin{tabular}{lll}\n",
       " country & total\\_deaths & population\\\\\n",
       " <chr> & <dbl> & <dbl>\\\\\n",
       "\\hline\n",
       "\t US             & 1095235 &  329466283\\\\\n",
       "\t Brazil         &  694411 &  212559409\\\\\n",
       "\t India          &  530710 & 1380004385\\\\\n",
       "\t Russia         &  385971 &  145934460\\\\\n",
       "\t Mexico         &  331206 &  127792286\\\\\n",
       "\t Peru           &  218304 &   32971846\\\\\n",
       "\t United Kingdom &  213786 &   67886004\\\\\n",
       "\t Italy          &  184642 &   60461828\\\\\n",
       "\t France         &  163541 &   65273512\\\\\n",
       "\t Germany        &  162256 &   83783945\\\\\n",
       "\\end{tabular}\n"
      ],
      "text/markdown": [
       "\n",
       "A tibble: 10 × 3\n",
       "\n",
       "| country &lt;chr&gt; | total_deaths &lt;dbl&gt; | population &lt;dbl&gt; |\n",
       "|---|---|---|\n",
       "| US             | 1095235 |  329466283 |\n",
       "| Brazil         |  694411 |  212559409 |\n",
       "| India          |  530710 | 1380004385 |\n",
       "| Russia         |  385971 |  145934460 |\n",
       "| Mexico         |  331206 |  127792286 |\n",
       "| Peru           |  218304 |   32971846 |\n",
       "| United Kingdom |  213786 |   67886004 |\n",
       "| Italy          |  184642 |   60461828 |\n",
       "| France         |  163541 |   65273512 |\n",
       "| Germany        |  162256 |   83783945 |\n",
       "\n"
      ],
      "text/plain": [
       "   country        total_deaths population\n",
       "1  US             1095235       329466283\n",
       "2  Brazil          694411       212559409\n",
       "3  India           530710      1380004385\n",
       "4  Russia          385971       145934460\n",
       "5  Mexico          331206       127792286\n",
       "6  Peru            218304        32971846\n",
       "7  United Kingdom  213786        67886004\n",
       "8  Italy           184642        60461828\n",
       "9  France          163541        65273512\n",
       "10 Germany         162256        83783945"
      ]
     },
     "metadata": {},
     "output_type": "display_data"
    }
   ],
   "source": [
    "coronavirus_cleaned_deaths <- coronavirus_filtered %>%\n",
    "  filter(!is.na(population), type == \"death\")\n",
    "\n",
    "deaths_by_country <- coronavirus_cleaned_deaths %>% \n",
    "  filter(type == \"death\") %>%\n",
    "  group_by(country) %>%\n",
    "  summarise(total_deaths = sum(cases),\n",
    "  population = max(population)) %>%\n",
    "  arrange(-total_deaths)\n",
    "\n",
    "head(deaths_by_country, 10)"
   ]
  },
  {
   "cell_type": "code",
   "execution_count": 20,
   "id": "156af3cb",
   "metadata": {
    "execution": {
     "iopub.execute_input": "2024-02-22T17:20:33.607490Z",
     "iopub.status.busy": "2024-02-22T17:20:33.605818Z",
     "iopub.status.idle": "2024-02-22T17:20:33.643216Z",
     "shell.execute_reply": "2024-02-22T17:20:33.640817Z"
    },
    "papermill": {
     "duration": 0.065146,
     "end_time": "2024-02-22T17:20:33.646294",
     "exception": false,
     "start_time": "2024-02-22T17:20:33.581148",
     "status": "completed"
    },
    "tags": []
   },
   "outputs": [
    {
     "data": {
      "text/html": [
       "<table class=\"dataframe\">\n",
       "<caption>A data.frame: 10 × 4</caption>\n",
       "<thead>\n",
       "\t<tr><th></th><th scope=col>country</th><th scope=col>population</th><th scope=col>total_cases</th><th scope=col>total_deaths</th></tr>\n",
       "\t<tr><th></th><th scope=col>&lt;chr&gt;</th><th scope=col>&lt;dbl&gt;</th><th scope=col>&lt;dbl&gt;</th><th scope=col>&lt;dbl&gt;</th></tr>\n",
       "</thead>\n",
       "<tbody>\n",
       "\t<tr><th scope=row>1</th><td>Afghanistan        </td><td>38928341</td><td>  207715</td><td>  7850</td></tr>\n",
       "\t<tr><th scope=row>2</th><td>Albania            </td><td> 2877800</td><td>  333818</td><td>  3596</td></tr>\n",
       "\t<tr><th scope=row>3</th><td>Algeria            </td><td>43851043</td><td>  271236</td><td>  6881</td></tr>\n",
       "\t<tr><th scope=row>4</th><td>Andorra            </td><td>   77265</td><td>   47751</td><td>   165</td></tr>\n",
       "\t<tr><th scope=row>5</th><td>Angola             </td><td>32866268</td><td>  105095</td><td>  1930</td></tr>\n",
       "\t<tr><th scope=row>6</th><td>Antigua and Barbuda</td><td>   97928</td><td>    9106</td><td>   146</td></tr>\n",
       "\t<tr><th scope=row>7</th><td>Argentina          </td><td>45195777</td><td> 9963697</td><td>130171</td></tr>\n",
       "\t<tr><th scope=row>8</th><td>Armenia            </td><td> 2963234</td><td>  445976</td><td>  8716</td></tr>\n",
       "\t<tr><th scope=row>9</th><td>Australia          </td><td> 8118000</td><td>11136734</td><td> 17112</td></tr>\n",
       "\t<tr><th scope=row>10</th><td>Austria            </td><td> 9006400</td><td> 5716267</td><td> 21466</td></tr>\n",
       "</tbody>\n",
       "</table>\n"
      ],
      "text/latex": [
       "A data.frame: 10 × 4\n",
       "\\begin{tabular}{r|llll}\n",
       "  & country & population & total\\_cases & total\\_deaths\\\\\n",
       "  & <chr> & <dbl> & <dbl> & <dbl>\\\\\n",
       "\\hline\n",
       "\t1 & Afghanistan         & 38928341 &   207715 &   7850\\\\\n",
       "\t2 & Albania             &  2877800 &   333818 &   3596\\\\\n",
       "\t3 & Algeria             & 43851043 &   271236 &   6881\\\\\n",
       "\t4 & Andorra             &    77265 &    47751 &    165\\\\\n",
       "\t5 & Angola              & 32866268 &   105095 &   1930\\\\\n",
       "\t6 & Antigua and Barbuda &    97928 &     9106 &    146\\\\\n",
       "\t7 & Argentina           & 45195777 &  9963697 & 130171\\\\\n",
       "\t8 & Armenia             &  2963234 &   445976 &   8716\\\\\n",
       "\t9 & Australia           &  8118000 & 11136734 &  17112\\\\\n",
       "\t10 & Austria             &  9006400 &  5716267 &  21466\\\\\n",
       "\\end{tabular}\n"
      ],
      "text/markdown": [
       "\n",
       "A data.frame: 10 × 4\n",
       "\n",
       "| <!--/--> | country &lt;chr&gt; | population &lt;dbl&gt; | total_cases &lt;dbl&gt; | total_deaths &lt;dbl&gt; |\n",
       "|---|---|---|---|---|\n",
       "| 1 | Afghanistan         | 38928341 |   207715 |   7850 |\n",
       "| 2 | Albania             |  2877800 |   333818 |   3596 |\n",
       "| 3 | Algeria             | 43851043 |   271236 |   6881 |\n",
       "| 4 | Andorra             |    77265 |    47751 |    165 |\n",
       "| 5 | Angola              | 32866268 |   105095 |   1930 |\n",
       "| 6 | Antigua and Barbuda |    97928 |     9106 |    146 |\n",
       "| 7 | Argentina           | 45195777 |  9963697 | 130171 |\n",
       "| 8 | Armenia             |  2963234 |   445976 |   8716 |\n",
       "| 9 | Australia           |  8118000 | 11136734 |  17112 |\n",
       "| 10 | Austria             |  9006400 |  5716267 |  21466 |\n",
       "\n"
      ],
      "text/plain": [
       "   country             population total_cases total_deaths\n",
       "1  Afghanistan         38928341     207715      7850      \n",
       "2  Albania              2877800     333818      3596      \n",
       "3  Algeria             43851043     271236      6881      \n",
       "4  Andorra                77265      47751       165      \n",
       "5  Angola              32866268     105095      1930      \n",
       "6  Antigua and Barbuda    97928       9106       146      \n",
       "7  Argentina           45195777    9963697    130171      \n",
       "8  Armenia              2963234     445976      8716      \n",
       "9  Australia            8118000   11136734     17112      \n",
       "10 Austria              9006400    5716267     21466      "
      ]
     },
     "metadata": {},
     "output_type": "display_data"
    }
   ],
   "source": [
    "# Merging the confirmed_cases_by_country and deaths_by_country data frames\n",
    "merged_confirmed_vs_deaths <- merge(confirmed_cases_by_country, deaths_by_country, by = c(\"country\", \"population\"), all = TRUE)\n",
    "\n",
    "head(merged_confirmed_vs_deaths, 10)"
   ]
  },
  {
   "cell_type": "code",
   "execution_count": 21,
   "id": "5eda6b1e",
   "metadata": {
    "execution": {
     "iopub.execute_input": "2024-02-22T17:20:33.695357Z",
     "iopub.status.busy": "2024-02-22T17:20:33.693686Z",
     "iopub.status.idle": "2024-02-22T17:20:33.730835Z",
     "shell.execute_reply": "2024-02-22T17:20:33.728274Z"
    },
    "papermill": {
     "duration": 0.064856,
     "end_time": "2024-02-22T17:20:33.733886",
     "exception": false,
     "start_time": "2024-02-22T17:20:33.669030",
     "status": "completed"
    },
    "tags": []
   },
   "outputs": [
    {
     "data": {
      "text/html": [
       "<table class=\"dataframe\">\n",
       "<caption>A data.frame: 10 × 4</caption>\n",
       "<thead>\n",
       "\t<tr><th></th><th scope=col>country</th><th scope=col>population</th><th scope=col>total_cases</th><th scope=col>total_deaths</th></tr>\n",
       "\t<tr><th></th><th scope=col>&lt;chr&gt;</th><th scope=col>&lt;dbl&gt;</th><th scope=col>&lt;dbl&gt;</th><th scope=col>&lt;dbl&gt;</th></tr>\n",
       "</thead>\n",
       "<tbody>\n",
       "\t<tr><th scope=row>1</th><td>US            </td><td> 329466283</td><td>101044032</td><td>1095235</td></tr>\n",
       "\t<tr><th scope=row>2</th><td>Brazil        </td><td> 212559409</td><td> 36423138</td><td> 694411</td></tr>\n",
       "\t<tr><th scope=row>3</th><td>India         </td><td>1380004385</td><td> 44680543</td><td> 530710</td></tr>\n",
       "\t<tr><th scope=row>4</th><td>Russia        </td><td> 145934460</td><td> 21505701</td><td> 385971</td></tr>\n",
       "\t<tr><th scope=row>5</th><td>Mexico        </td><td> 127792286</td><td>  7257916</td><td> 331206</td></tr>\n",
       "\t<tr><th scope=row>6</th><td>Peru          </td><td>  32971846</td><td>  4460100</td><td> 218304</td></tr>\n",
       "\t<tr><th scope=row>7</th><td>United Kingdom</td><td>  67886004</td><td> 24266706</td><td> 213786</td></tr>\n",
       "\t<tr><th scope=row>8</th><td>Italy         </td><td>  60461828</td><td> 25143705</td><td> 184642</td></tr>\n",
       "\t<tr><th scope=row>9</th><td>France        </td><td>  65273512</td><td> 39574616</td><td> 163541</td></tr>\n",
       "\t<tr><th scope=row>10</th><td>Germany       </td><td>  83783945</td><td> 37475448</td><td> 162256</td></tr>\n",
       "</tbody>\n",
       "</table>\n"
      ],
      "text/latex": [
       "A data.frame: 10 × 4\n",
       "\\begin{tabular}{r|llll}\n",
       "  & country & population & total\\_cases & total\\_deaths\\\\\n",
       "  & <chr> & <dbl> & <dbl> & <dbl>\\\\\n",
       "\\hline\n",
       "\t1 & US             &  329466283 & 101044032 & 1095235\\\\\n",
       "\t2 & Brazil         &  212559409 &  36423138 &  694411\\\\\n",
       "\t3 & India          & 1380004385 &  44680543 &  530710\\\\\n",
       "\t4 & Russia         &  145934460 &  21505701 &  385971\\\\\n",
       "\t5 & Mexico         &  127792286 &   7257916 &  331206\\\\\n",
       "\t6 & Peru           &   32971846 &   4460100 &  218304\\\\\n",
       "\t7 & United Kingdom &   67886004 &  24266706 &  213786\\\\\n",
       "\t8 & Italy          &   60461828 &  25143705 &  184642\\\\\n",
       "\t9 & France         &   65273512 &  39574616 &  163541\\\\\n",
       "\t10 & Germany        &   83783945 &  37475448 &  162256\\\\\n",
       "\\end{tabular}\n"
      ],
      "text/markdown": [
       "\n",
       "A data.frame: 10 × 4\n",
       "\n",
       "| <!--/--> | country &lt;chr&gt; | population &lt;dbl&gt; | total_cases &lt;dbl&gt; | total_deaths &lt;dbl&gt; |\n",
       "|---|---|---|---|---|\n",
       "| 1 | US             |  329466283 | 101044032 | 1095235 |\n",
       "| 2 | Brazil         |  212559409 |  36423138 |  694411 |\n",
       "| 3 | India          | 1380004385 |  44680543 |  530710 |\n",
       "| 4 | Russia         |  145934460 |  21505701 |  385971 |\n",
       "| 5 | Mexico         |  127792286 |   7257916 |  331206 |\n",
       "| 6 | Peru           |   32971846 |   4460100 |  218304 |\n",
       "| 7 | United Kingdom |   67886004 |  24266706 |  213786 |\n",
       "| 8 | Italy          |   60461828 |  25143705 |  184642 |\n",
       "| 9 | France         |   65273512 |  39574616 |  163541 |\n",
       "| 10 | Germany        |   83783945 |  37475448 |  162256 |\n",
       "\n"
      ],
      "text/plain": [
       "   country        population total_cases total_deaths\n",
       "1  US              329466283 101044032   1095235     \n",
       "2  Brazil          212559409  36423138    694411     \n",
       "3  India          1380004385  44680543    530710     \n",
       "4  Russia          145934460  21505701    385971     \n",
       "5  Mexico          127792286   7257916    331206     \n",
       "6  Peru             32971846   4460100    218304     \n",
       "7  United Kingdom   67886004  24266706    213786     \n",
       "8  Italy            60461828  25143705    184642     \n",
       "9  France           65273512  39574616    163541     \n",
       "10 Germany          83783945  37475448    162256     "
      ]
     },
     "metadata": {},
     "output_type": "display_data"
    }
   ],
   "source": [
    "# Reordering the merged_confirmed_cases_vs_deaths data frame to get top 10 deaths\n",
    "merged_confirmed_vs_deaths <- merged_confirmed_vs_deaths %>% \n",
    "  arrange(-total_deaths)\n",
    "\n",
    "head(merged_confirmed_vs_deaths, 10)"
   ]
  },
  {
   "cell_type": "code",
   "execution_count": 22,
   "id": "4640b789",
   "metadata": {
    "execution": {
     "iopub.execute_input": "2024-02-22T17:20:33.783537Z",
     "iopub.status.busy": "2024-02-22T17:20:33.781921Z",
     "iopub.status.idle": "2024-02-22T17:20:34.175081Z",
     "shell.execute_reply": "2024-02-22T17:20:34.172226Z"
    },
    "papermill": {
     "duration": 0.421881,
     "end_time": "2024-02-22T17:20:34.178404",
     "exception": false,
     "start_time": "2024-02-22T17:20:33.756523",
     "status": "completed"
    },
    "tags": []
   },
   "outputs": [
    {
     "data": {
      "image/png": "[encoded data removed]"
     },
     "metadata": {
      "image/png": {
       "height": 420,
       "width": 420
      }
     },
     "output_type": "display_data"
    }
   ],
   "source": [
    "# Visualizing total confirmed cases vs. total deaths\n",
    "ggplot(head(merged_confirmed_vs_deaths,10), aes(x = reorder(country, -total_deaths), y = total_cases)) +\n",
    "  geom_bar(aes(y = total_cases, fill = \"Total Cases\"), stat = \"identity\") +\n",
    "  geom_bar(aes(y = total_deaths, fill = \"Total Deaths\"), stat = \"identity\") +\n",
    "  scale_fill_manual(values = c(\"#99E1D9\", \"#5D576B\"), name = \"Legend\", labels = c(\"Total Cases\", \"Total Deaths\")) +\n",
    "  scale_y_continuous(labels = label_comma()) +\n",
    "  labs(title = \"COVID-19 Deaths vs. Confirmed Cases: Top 10 Countries\",\n",
    "       subtitle = \"Examining the Relationship Between Mortality and Infection Rates\",\n",
    "       x = \"Country\",\n",
    "       y = \"Total Cases\") +\n",
    "  theme(axis.text.x = element_text(angle = 45, hjust = 1)) "
   ]
  },
  {
   "cell_type": "markdown",
   "id": "1fa4076e",
   "metadata": {
    "papermill": {
     "duration": 0.024517,
     "end_time": "2024-02-22T17:20:34.228963",
     "exception": false,
     "start_time": "2024-02-22T17:20:34.204446",
     "status": "completed"
    },
    "tags": []
   },
   "source": [
    "The chart above clearly shows that the COVID-19 death toll in each of the leading 10 countries constitutes merely a small portion of the total number of COVID-19 cases. This prompts us to inquire about the actual percentage of COVID-19 infections that lead to fatalities."
   ]
  },
  {
   "cell_type": "code",
   "execution_count": 23,
   "id": "fe8475dc",
   "metadata": {
    "execution": {
     "iopub.execute_input": "2024-02-22T17:20:34.280893Z",
     "iopub.status.busy": "2024-02-22T17:20:34.279189Z",
     "iopub.status.idle": "2024-02-22T17:20:34.316598Z",
     "shell.execute_reply": "2024-02-22T17:20:34.314130Z"
    },
    "papermill": {
     "duration": 0.066971,
     "end_time": "2024-02-22T17:20:34.319707",
     "exception": false,
     "start_time": "2024-02-22T17:20:34.252736",
     "status": "completed"
    },
    "tags": []
   },
   "outputs": [
    {
     "data": {
      "text/html": [
       "<table class=\"dataframe\">\n",
       "<caption>A data.frame: 10 × 5</caption>\n",
       "<thead>\n",
       "\t<tr><th></th><th scope=col>country</th><th scope=col>population</th><th scope=col>total_cases</th><th scope=col>total_deaths</th><th scope=col>deaths_in_percent</th></tr>\n",
       "\t<tr><th></th><th scope=col>&lt;chr&gt;</th><th scope=col>&lt;dbl&gt;</th><th scope=col>&lt;dbl&gt;</th><th scope=col>&lt;dbl&gt;</th><th scope=col>&lt;dbl&gt;</th></tr>\n",
       "</thead>\n",
       "<tbody>\n",
       "\t<tr><th scope=row>1</th><td>US            </td><td> 329466283</td><td>101044032</td><td>1095235</td><td>1.0839185</td></tr>\n",
       "\t<tr><th scope=row>2</th><td>Brazil        </td><td> 212559409</td><td> 36423138</td><td> 694411</td><td>1.9065106</td></tr>\n",
       "\t<tr><th scope=row>3</th><td>India         </td><td>1380004385</td><td> 44680543</td><td> 530710</td><td>1.1877877</td></tr>\n",
       "\t<tr><th scope=row>4</th><td>Russia        </td><td> 145934460</td><td> 21505701</td><td> 385971</td><td>1.7947381</td></tr>\n",
       "\t<tr><th scope=row>5</th><td>Mexico        </td><td> 127792286</td><td>  7257916</td><td> 331206</td><td>4.5633760</td></tr>\n",
       "\t<tr><th scope=row>6</th><td>Peru          </td><td>  32971846</td><td>  4460100</td><td> 218304</td><td>4.8945988</td></tr>\n",
       "\t<tr><th scope=row>7</th><td>United Kingdom</td><td>  67886004</td><td> 24266706</td><td> 213786</td><td>0.8809848</td></tr>\n",
       "\t<tr><th scope=row>8</th><td>Italy         </td><td>  60461828</td><td> 25143705</td><td> 184642</td><td>0.7343468</td></tr>\n",
       "\t<tr><th scope=row>9</th><td>France        </td><td>  65273512</td><td> 39574616</td><td> 163541</td><td>0.4132472</td></tr>\n",
       "\t<tr><th scope=row>10</th><td>Germany       </td><td>  83783945</td><td> 37475448</td><td> 162256</td><td>0.4329661</td></tr>\n",
       "</tbody>\n",
       "</table>\n"
      ],
      "text/latex": [
       "A data.frame: 10 × 5\n",
       "\\begin{tabular}{r|lllll}\n",
       "  & country & population & total\\_cases & total\\_deaths & deaths\\_in\\_percent\\\\\n",
       "  & <chr> & <dbl> & <dbl> & <dbl> & <dbl>\\\\\n",
       "\\hline\n",
       "\t1 & US             &  329466283 & 101044032 & 1095235 & 1.0839185\\\\\n",
       "\t2 & Brazil         &  212559409 &  36423138 &  694411 & 1.9065106\\\\\n",
       "\t3 & India          & 1380004385 &  44680543 &  530710 & 1.1877877\\\\\n",
       "\t4 & Russia         &  145934460 &  21505701 &  385971 & 1.7947381\\\\\n",
       "\t5 & Mexico         &  127792286 &   7257916 &  331206 & 4.5633760\\\\\n",
       "\t6 & Peru           &   32971846 &   4460100 &  218304 & 4.8945988\\\\\n",
       "\t7 & United Kingdom &   67886004 &  24266706 &  213786 & 0.8809848\\\\\n",
       "\t8 & Italy          &   60461828 &  25143705 &  184642 & 0.7343468\\\\\n",
       "\t9 & France         &   65273512 &  39574616 &  163541 & 0.4132472\\\\\n",
       "\t10 & Germany        &   83783945 &  37475448 &  162256 & 0.4329661\\\\\n",
       "\\end{tabular}\n"
      ],
      "text/markdown": [
       "\n",
       "A data.frame: 10 × 5\n",
       "\n",
       "| <!--/--> | country &lt;chr&gt; | population &lt;dbl&gt; | total_cases &lt;dbl&gt; | total_deaths &lt;dbl&gt; | deaths_in_percent &lt;dbl&gt; |\n",
       "|---|---|---|---|---|---|\n",
       "| 1 | US             |  329466283 | 101044032 | 1095235 | 1.0839185 |\n",
       "| 2 | Brazil         |  212559409 |  36423138 |  694411 | 1.9065106 |\n",
       "| 3 | India          | 1380004385 |  44680543 |  530710 | 1.1877877 |\n",
       "| 4 | Russia         |  145934460 |  21505701 |  385971 | 1.7947381 |\n",
       "| 5 | Mexico         |  127792286 |   7257916 |  331206 | 4.5633760 |\n",
       "| 6 | Peru           |   32971846 |   4460100 |  218304 | 4.8945988 |\n",
       "| 7 | United Kingdom |   67886004 |  24266706 |  213786 | 0.8809848 |\n",
       "| 8 | Italy          |   60461828 |  25143705 |  184642 | 0.7343468 |\n",
       "| 9 | France         |   65273512 |  39574616 |  163541 | 0.4132472 |\n",
       "| 10 | Germany        |   83783945 |  37475448 |  162256 | 0.4329661 |\n",
       "\n"
      ],
      "text/plain": [
       "   country        population total_cases total_deaths deaths_in_percent\n",
       "1  US              329466283 101044032   1095235      1.0839185        \n",
       "2  Brazil          212559409  36423138    694411      1.9065106        \n",
       "3  India          1380004385  44680543    530710      1.1877877        \n",
       "4  Russia          145934460  21505701    385971      1.7947381        \n",
       "5  Mexico          127792286   7257916    331206      4.5633760        \n",
       "6  Peru             32971846   4460100    218304      4.8945988        \n",
       "7  United Kingdom   67886004  24266706    213786      0.8809848        \n",
       "8  Italy            60461828  25143705    184642      0.7343468        \n",
       "9  France           65273512  39574616    163541      0.4132472        \n",
       "10 Germany          83783945  37475448    162256      0.4329661        "
      ]
     },
     "metadata": {},
     "output_type": "display_data"
    }
   ],
   "source": [
    "# Calculating death percentage for each country\n",
    "merged_confirmed_vs_deaths <- merged_confirmed_vs_deaths %>% \n",
    "  mutate(deaths_in_percent = total_deaths / total_cases * 100)\n",
    "\n",
    "head(merged_confirmed_vs_deaths, 10)"
   ]
  },
  {
   "cell_type": "markdown",
   "id": "16c90710",
   "metadata": {
    "papermill": {
     "duration": 0.023917,
     "end_time": "2024-02-22T17:20:34.368240",
     "exception": false,
     "start_time": "2024-02-22T17:20:34.344323",
     "status": "completed"
    },
    "tags": []
   },
   "source": [
    "It is now apparent that in the US, 1.08% of all confirmed COVID-19 cases ended deadly, with Brazil at 1.91% and India at 1.19%. Meanwhile, Mexico's mortality rate stands at 4.56%, and Peru's is even more significant at 4.89%. This observation leads us to the next step of determining which countries have the highest death percentages in relation to their confirmed COVID-19 case counts."
   ]
  },
  {
   "cell_type": "code",
   "execution_count": 24,
   "id": "db65aaef",
   "metadata": {
    "execution": {
     "iopub.execute_input": "2024-02-22T17:20:34.420478Z",
     "iopub.status.busy": "2024-02-22T17:20:34.418822Z",
     "iopub.status.idle": "2024-02-22T17:20:34.455985Z",
     "shell.execute_reply": "2024-02-22T17:20:34.454049Z"
    },
    "papermill": {
     "duration": 0.066184,
     "end_time": "2024-02-22T17:20:34.458470",
     "exception": false,
     "start_time": "2024-02-22T17:20:34.392286",
     "status": "completed"
    },
    "tags": []
   },
   "outputs": [
    {
     "data": {
      "text/html": [
       "<table class=\"dataframe\">\n",
       "<caption>A data.frame: 10 × 5</caption>\n",
       "<thead>\n",
       "\t<tr><th></th><th scope=col>country</th><th scope=col>population</th><th scope=col>total_cases</th><th scope=col>total_deaths</th><th scope=col>deaths_in_percent</th></tr>\n",
       "\t<tr><th></th><th scope=col>&lt;chr&gt;</th><th scope=col>&lt;dbl&gt;</th><th scope=col>&lt;dbl&gt;</th><th scope=col>&lt;dbl&gt;</th><th scope=col>&lt;dbl&gt;</th></tr>\n",
       "</thead>\n",
       "<tbody>\n",
       "\t<tr><th scope=row>1</th><td>Yemen                 </td><td> 29825968</td><td>  11945</td><td>  2159</td><td>18.074508</td></tr>\n",
       "\t<tr><th scope=row>2</th><td>Sudan                 </td><td> 43849269</td><td>  63686</td><td>  4994</td><td> 7.841598</td></tr>\n",
       "\t<tr><th scope=row>3</th><td>Syria                 </td><td> 17500657</td><td>  57423</td><td>  3163</td><td> 5.508246</td></tr>\n",
       "\t<tr><th scope=row>4</th><td>Somalia               </td><td> 15893219</td><td>  27310</td><td>  1361</td><td> 4.983523</td></tr>\n",
       "\t<tr><th scope=row>5</th><td>Peru                  </td><td> 32971846</td><td>4460100</td><td>218304</td><td> 4.894599</td></tr>\n",
       "\t<tr><th scope=row>6</th><td>Egypt                 </td><td>102334403</td><td> 515645</td><td> 24802</td><td> 4.809898</td></tr>\n",
       "\t<tr><th scope=row>7</th><td>Mexico                </td><td>127792286</td><td>7257916</td><td>331206</td><td> 4.563376</td></tr>\n",
       "\t<tr><th scope=row>8</th><td>Bosnia and Herzegovina</td><td>  3280815</td><td> 401058</td><td> 16230</td><td> 4.046796</td></tr>\n",
       "\t<tr><th scope=row>9</th><td>Afghanistan           </td><td> 38928341</td><td> 207715</td><td>  7850</td><td> 3.779217</td></tr>\n",
       "\t<tr><th scope=row>10</th><td>Liberia               </td><td>  5057677</td><td>   8043</td><td>   294</td><td> 3.655352</td></tr>\n",
       "</tbody>\n",
       "</table>\n"
      ],
      "text/latex": [
       "A data.frame: 10 × 5\n",
       "\\begin{tabular}{r|lllll}\n",
       "  & country & population & total\\_cases & total\\_deaths & deaths\\_in\\_percent\\\\\n",
       "  & <chr> & <dbl> & <dbl> & <dbl> & <dbl>\\\\\n",
       "\\hline\n",
       "\t1 & Yemen                  &  29825968 &   11945 &   2159 & 18.074508\\\\\n",
       "\t2 & Sudan                  &  43849269 &   63686 &   4994 &  7.841598\\\\\n",
       "\t3 & Syria                  &  17500657 &   57423 &   3163 &  5.508246\\\\\n",
       "\t4 & Somalia                &  15893219 &   27310 &   1361 &  4.983523\\\\\n",
       "\t5 & Peru                   &  32971846 & 4460100 & 218304 &  4.894599\\\\\n",
       "\t6 & Egypt                  & 102334403 &  515645 &  24802 &  4.809898\\\\\n",
       "\t7 & Mexico                 & 127792286 & 7257916 & 331206 &  4.563376\\\\\n",
       "\t8 & Bosnia and Herzegovina &   3280815 &  401058 &  16230 &  4.046796\\\\\n",
       "\t9 & Afghanistan            &  38928341 &  207715 &   7850 &  3.779217\\\\\n",
       "\t10 & Liberia                &   5057677 &    8043 &    294 &  3.655352\\\\\n",
       "\\end{tabular}\n"
      ],
      "text/markdown": [
       "\n",
       "A data.frame: 10 × 5\n",
       "\n",
       "| <!--/--> | country &lt;chr&gt; | population &lt;dbl&gt; | total_cases &lt;dbl&gt; | total_deaths &lt;dbl&gt; | deaths_in_percent &lt;dbl&gt; |\n",
       "|---|---|---|---|---|---|\n",
       "| 1 | Yemen                  |  29825968 |   11945 |   2159 | 18.074508 |\n",
       "| 2 | Sudan                  |  43849269 |   63686 |   4994 |  7.841598 |\n",
       "| 3 | Syria                  |  17500657 |   57423 |   3163 |  5.508246 |\n",
       "| 4 | Somalia                |  15893219 |   27310 |   1361 |  4.983523 |\n",
       "| 5 | Peru                   |  32971846 | 4460100 | 218304 |  4.894599 |\n",
       "| 6 | Egypt                  | 102334403 |  515645 |  24802 |  4.809898 |\n",
       "| 7 | Mexico                 | 127792286 | 7257916 | 331206 |  4.563376 |\n",
       "| 8 | Bosnia and Herzegovina |   3280815 |  401058 |  16230 |  4.046796 |\n",
       "| 9 | Afghanistan            |  38928341 |  207715 |   7850 |  3.779217 |\n",
       "| 10 | Liberia                |   5057677 |    8043 |    294 |  3.655352 |\n",
       "\n"
      ],
      "text/plain": [
       "   country                population total_cases total_deaths deaths_in_percent\n",
       "1  Yemen                   29825968    11945       2159       18.074508        \n",
       "2  Sudan                   43849269    63686       4994        7.841598        \n",
       "3  Syria                   17500657    57423       3163        5.508246        \n",
       "4  Somalia                 15893219    27310       1361        4.983523        \n",
       "5  Peru                    32971846  4460100     218304        4.894599        \n",
       "6  Egypt                  102334403   515645      24802        4.809898        \n",
       "7  Mexico                 127792286  7257916     331206        4.563376        \n",
       "8  Bosnia and Herzegovina   3280815   401058      16230        4.046796        \n",
       "9  Afghanistan             38928341   207715       7850        3.779217        \n",
       "10 Liberia                  5057677     8043        294        3.655352        "
      ]
     },
     "metadata": {},
     "output_type": "display_data"
    }
   ],
   "source": [
    "merged_confirmed_vs_deaths <- merged_confirmed_vs_deaths %>% \n",
    "  arrange(-deaths_in_percent)\n",
    "\n",
    "head(merged_confirmed_vs_deaths, 10)"
   ]
  },
  {
   "cell_type": "markdown",
   "id": "1eea50a9",
   "metadata": {
    "papermill": {
     "duration": 0.024325,
     "end_time": "2024-02-22T17:20:34.507188",
     "exception": false,
     "start_time": "2024-02-22T17:20:34.482863",
     "status": "completed"
    },
    "tags": []
   },
   "source": [
    "The data presented in the table clearly indicates that Yemen, despite its relatively low count of 11,945 confirmed COVID-19 cases, exhibits a significantly high mortality rate of 18.07%, translating to 2,159 deaths. This rate surpasses that of the second-ranked country, Sudan, by more than double. Sudan has reported 63,686 confirmed cases of COVID-19, leading to 4,994 deaths, with a mortality rate of 7.84%."
   ]
  },
  {
   "cell_type": "markdown",
   "id": "18b39606",
   "metadata": {
    "papermill": {
     "duration": 0.024503,
     "end_time": "2024-02-22T17:20:34.556191",
     "exception": false,
     "start_time": "2024-02-22T17:20:34.531688",
     "status": "completed"
    },
    "tags": []
   },
   "source": [
    "## Conclusion\n",
    "The analysis reveals the top 10 countries with the highest COVID-19 mortality rates. Here are some potential reasons why certain countries, with Yemen being a primary example, are experiencing disproportionately high death tolls:\n",
    "\n",
    "* **Healthcare Infrastructure:** Nations such as Yemen, Sudan, and Syria have been ravaged by prolonged conflicts, resulting in severely damaged healthcare infrastructures. The limited availability of medical services, scarce medical supplies, and a shortage of healthcare workers critically affect the capability to effectively manage COVID-19, leading to increased fatalities.\n",
    "\n",
    "* **Testing and Reporting Efficiency:** The ability to conduct widespread testing and accurately report COVID-19 cases is essential for effective containment and treatment. Lower testing rates might result in underreported case numbers but a higher reported death count, artificially inflating the mortality rate. Countries with inadequate testing facilities often identify only the most critical cases, which are more likely to be fatal.\n",
    "\n",
    "* **Economic Challenges:** Economic instability can worsen the pandemic's impact. In economically disadvantaged countries like Somalia and Afghanistan, there might be insufficient access to personal protective equipment, hygiene supplies, and healthcare resources, facilitating the virus's spread and elevating death counts.\n",
    "\n",
    "* **Population Demographics:** While the demographic makeup, including age distribution and chronic health conditions, affects COVID-19 mortality rates, in the mentioned countries, factors such as general health and nutritional status may play a more significant role than age demographics alone.\n",
    "\n",
    "* **Public Health Strategies:** The success of public health interventions, such as lockdowns, social distancing, and mask-wearing, differs greatly among countries. Ineffective implementation and compliance with these measures can lead to increased virus transmission and, consequently, higher mortality rates.\n",
    "\n",
    "* **International Assistance and Resources:** Access to international aid, encompassing vaccines, medical supplies, and healthcare expertise, is critical. Nations that are politically isolated or have limited international relations may struggle to obtain the support needed to effectively tackle the pandemic.\n",
    "\n",
    "* **Cultural and Social Practices:** Cultural norms and social behaviors can influence virus spread and adherence to health guidelines. In some regions, practices like large family gatherings and shared living situations may accelerate virus transmission.\n",
    "\n",
    "In conclusion, the heightened COVID-19 death rates in these countries are attributed to a complex mix of healthcare-related, economic, demographic, and socio-political challenges. Addressing these issues demands a comprehensive strategy that includes bolstering healthcare systems, improving testing and reporting, fostering economic stability, and encouraging effective public health practices. The contribution of the international community in offering aid and resources is vital for alleviating the effects of COVID-19 in these high-risk areas."
   ]
  },
  {
   "cell_type": "markdown",
   "id": "f4d61278",
   "metadata": {
    "papermill": {
     "duration": 0.02615,
     "end_time": "2024-02-22T17:20:34.606723",
     "exception": false,
     "start_time": "2024-02-22T17:20:34.580573",
     "status": "completed"
    },
    "tags": []
   },
   "source": [
    "## Negative Case Numbers in the Data Explained\n",
    "The coronavirus dataset computes daily new cases (confirmed, recovered, and deaths) by calculating the difference between each day's total and that of the previous day. Consequently, instances of negative cases may arise when there's a reduction in the cumulative case count relative to the prior day. Such discrepancies have been observed under several circumstances:\n",
    "\n",
    "* Modifications in the methodology or source of case counting, as exemplified by specific documented issues.\n",
    "* Adjustments in case numbers (including the correction of false positives) that are not recorded on the actual day of occurrence.\n",
    "* Inaccuracies present within the raw data."
   ]
  },
  {
   "cell_type": "markdown",
   "id": "3f00fcf3",
   "metadata": {
    "papermill": {
     "duration": 0.024248,
     "end_time": "2024-02-22T17:20:34.655324",
     "exception": false,
     "start_time": "2024-02-22T17:20:34.631076",
     "status": "completed"
    },
    "tags": []
   },
   "source": [
    "## MIT License / Data Copyright\n",
    "Copyright (c) 2020 Rami Krispin\n",
    "\n",
    "Permission is hereby granted, free of charge, to any person obtaining a copy of this software and associated documentation files (the \"Software\"), to deal in the Software without restriction, including without limitation the rights to use, copy, modify, merge, publish, distribute, sublicense, and/or sell copies of the Software, and to permit persons to whom the Software is furnished to do so, subject to the following conditions:\n",
    "\n",
    "The above copyright notice and this permission notice shall be included in all copies or substantial portions of the Software.\n",
    "\n",
    "THE SOFTWARE IS PROVIDED \"AS IS\", WITHOUT WARRANTY OF ANY KIND, EXPRESS OR IMPLIED, INCLUDING BUT NOT LIMITED TO THE WARRANTIES OF MERCHANTABILITY, FITNESS FOR A PARTICULAR PURPOSE AND NONINFRINGEMENT. IN NO EVENT SHALL THE AUTHORS OR COPYRIGHT HOLDERS BE LIABLE FOR ANY CLAIM, DAMAGES OR OTHER LIABILITY, WHETHER IN AN ACTION OF CONTRACT, TORT OR OTHERWISE, ARISING FROM, OUT OF OR IN CONNECTION WITH THE SOFTWARE OR THE USE OR OTHER DEALINGS IN THE SOFTWARE.\n"
   ]
  }
 ],
 "metadata": {
  "kaggle": {
   "accelerator": "none",
   "dataSources": [
    {
     "datasetId": 4476425,
     "sourceId": 7674090,
     "sourceType": "datasetVersion"
    }
   ],
   "dockerImageVersionId": 30618,
   "isGpuEnabled": false,
   "isInternetEnabled": true,
   "language": "r",
   "sourceType": "notebook"
  },
  "kernelspec": {
   "display_name": "R",
   "language": "R",
   "name": "ir"
  },
  "language_info": {
   "codemirror_mode": "r",
   "file_extension": ".r",
   "mimetype": "text/x-r-source",
   "name": "R",
   "pygments_lexer": "r",
   "version": "4.0.5"
  },
  "papermill": {
   "default_parameters": {},
   "duration": 34.438784,
   "end_time": "2024-02-22T17:20:34.902400",
   "environment_variables": {},
   "exception": null,
   "input_path": "__notebook__.ipynb",
   "output_path": "__notebook__.ipynb",
   "parameters": {},
   "start_time": "2024-02-22T17:20:00.463616",
   "version": "2.5.0"
  }
 },
 "nbformat": 4,
 "nbformat_minor": 5
}
